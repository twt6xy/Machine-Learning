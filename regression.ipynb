{
  "nbformat": 4,
  "nbformat_minor": 0,
  "metadata": {
    "kernelspec": {
      "display_name": "Python 3",
      "language": "python",
      "name": "python3"
    },
    "language_info": {
      "codemirror_mode": {
        "name": "ipython",
        "version": 3
      },
      "file_extension": ".py",
      "mimetype": "text/x-python",
      "name": "python",
      "nbconvert_exporter": "python",
      "pygments_lexer": "ipython3",
      "version": "3.7.0"
    },
    "colab": {
      "name": "regression.ipynb",
      "provenance": [],
      "collapsed_sections": []
    }
  },
  "cells": [
    {
      "cell_type": "markdown",
      "metadata": {
        "id": "s-RzEZEBR10z"
      },
      "source": [
        "# Assignment 1: Comparison of Regression Models on Predicting Medical Costs"
      ]
    },
    {
      "cell_type": "markdown",
      "metadata": {
        "id": "0qYDyMDTR100"
      },
      "source": [
        "### CS 4774 Machine Learning - Department of Computer Science - University of Virginia\n",
        "![Medical Cost](https://creditkarma-cms.imgix.net/wp-content/uploads/2018/04/boomers-gen-x-high-cost-medical-care.jpg)\n",
        "In this assignment, you will implement some learning models in the context of a **regression** problem in the [Medical Cost Personal Dataset on Kaggle](https://www.kaggle.com/mirichoi0218/insurance). Specifically, you will attempt to predict the medical cost billed by health insurance using other provided patient's data. For references, you may refer to [my slides](https://docs.google.com/presentation/d/10D1he89peAWaFgjtZlHpUzvOOAie_vIFT95htKCKgc0/edit#slide=id.p) or the Google Colab if you need additional sample codes to help with your assignment. To get started, you will need to upload/copy the dataset (.csv) into the same folder as this file. \n",
        "\n",
        "For deliverables, you must write code in Colab and submit the downloaded Jupyter Notebook file (.ipynb) to earn a total of 100 pts. You will gain points depending on how you perform in the following sections.\n"
      ]
    },
    {
      "cell_type": "markdown",
      "metadata": {
        "id": "l0lLa-xiR101"
      },
      "source": [
        "***\n",
        "##  Task 1: SEE THE BIG PICTURE (5 pts)\n",
        "Write a paragraph explaining the context of the problem in which you are trying to investigate. We will assume that the data file is put into the same workspace on Colab. Then, you can write some code to load the CSV file and take a quick look at the dataset, and output the following:\n",
        "\n",
        " * How big is your dataset? (in terms of MB)\n",
        " * How many entries does it have?\n",
        " * How many features does it have?\n",
        " * Does it contain any categorical data?\n",
        " * Is there any missing value?\n",
        " * What are some basic statistics you can learn right away about this dataset?"
      ]
    },
    {
      "cell_type": "code",
      "metadata": {
        "id": "ujitZUYeR101"
      },
      "source": [
        "# Import some common packages\n",
        "import os\n",
        "import numpy as np\n",
        "import matplotlib\n",
        "import matplotlib.pyplot as plt\n",
        "import pandas as pd\n",
        "\n",
        "# to make this notebook's output stable across runs\n",
        "np.random.seed(42)\n",
        "\n",
        "# To plot pretty figures\n",
        "%matplotlib inline\n",
        "import matplotlib as mpl\n",
        "import matplotlib.pyplot as plt"
      ],
      "execution_count": null,
      "outputs": []
    },
    {
      "cell_type": "code",
      "metadata": {
        "id": "3FT1I5k9fxZ4"
      },
      "source": [
        "# Colab library to upload files to notebook\n",
        "from google.colab import files\n",
        "\n",
        "# Install Kaggle library\n",
        "!pip install -q kaggle"
      ],
      "execution_count": null,
      "outputs": []
    },
    {
      "cell_type": "code",
      "metadata": {
        "id": "WCU7PAnPf44k",
        "colab": {
          "resources": {
            "http://localhost:8080/nbextensions/google.colab/files.js": {
              "data": "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",
              "ok": true,
              "headers": [
                [
                  "content-type",
                  "application/javascript"
                ]
              ],
              "status": 200,
              "status_text": ""
            }
          },
          "base_uri": "https://localhost:8080/",
          "height": 74
        },
        "outputId": "51ed7101-7218-4f21-f7fd-23523250d2de"
      },
      "source": [
        "# Steps from here\n",
        "# 1 - sign into kaggle\n",
        "# 2 - click on 'my account'\n",
        "# 3 - scroll down to the API section and click get token\n",
        "# 4 - run this cell and click on the kaggle.json file that should now be in downloads\n",
        "\n",
        "# Upload kaggle API key file\n",
        "uploaded = files.upload()"
      ],
      "execution_count": null,
      "outputs": [
        {
          "output_type": "display_data",
          "data": {
            "text/html": [
              "\n",
              "     <input type=\"file\" id=\"files-05a47356-b13d-460c-9238-7fc62b6f75bf\" name=\"files[]\" multiple disabled />\n",
              "     <output id=\"result-05a47356-b13d-460c-9238-7fc62b6f75bf\">\n",
              "      Upload widget is only available when the cell has been executed in the\n",
              "      current browser session. Please rerun this cell to enable.\n",
              "      </output>\n",
              "      <script src=\"/nbextensions/google.colab/files.js\"></script> "
            ],
            "text/plain": [
              "<IPython.core.display.HTML object>"
            ]
          },
          "metadata": {
            "tags": []
          }
        },
        {
          "output_type": "stream",
          "text": [
            "Saving kaggle.json to kaggle.json\n"
          ],
          "name": "stdout"
        }
      ]
    },
    {
      "cell_type": "code",
      "metadata": {
        "id": "TmA7Wb-Rf9N_",
        "colab": {
          "base_uri": "https://localhost:8080/",
          "height": 34
        },
        "outputId": "d63d70f6-6ef6-4860-9dcf-6d7185cc88bb"
      },
      "source": [
        "!mkdir ~/.kaggle"
      ],
      "execution_count": null,
      "outputs": [
        {
          "output_type": "stream",
          "text": [
            "mkdir: cannot create directory ‘/root/.kaggle’: File exists\n"
          ],
          "name": "stdout"
        }
      ]
    },
    {
      "cell_type": "code",
      "metadata": {
        "id": "bQpXPvexf9td"
      },
      "source": [
        "# move the authentication key\n",
        "!cp /content/kaggle.json ~/.kaggle/kaggle.json"
      ],
      "execution_count": null,
      "outputs": []
    },
    {
      "cell_type": "code",
      "metadata": {
        "id": "LdzxNZBVf_Oa",
        "colab": {
          "base_uri": "https://localhost:8080/",
          "height": 51
        },
        "outputId": "1e1b58f5-5d1f-4167-d609-6aa7a301672d"
      },
      "source": [
        "# call the kaggle API to get the boston housing data\n",
        "!kaggle datasets download -d mirichoi0218/insurance\n",
        "\n",
        "# unzip and move to proper folder\n",
        "import zipfile\n",
        "with zipfile.ZipFile('/content/insurance.zip', 'r') as zip_ref:\n",
        "  zip_ref.extractall('/content/datasets/insurance')"
      ],
      "execution_count": null,
      "outputs": [
        {
          "output_type": "stream",
          "text": [
            "Warning: Your Kaggle API key is readable by other users on this system! To fix this, you can run 'chmod 600 /root/.kaggle/kaggle.json'\n",
            "insurance.zip: Skipping, found more recently modified local copy (use --force to force download)\n"
          ],
          "name": "stdout"
        }
      ]
    },
    {
      "cell_type": "code",
      "metadata": {
        "id": "97KzU1gqg8-W"
      },
      "source": [
        "INSURANCE_PATH = '/content/datasets/insurance/'\n",
        "\n",
        "insurance = pd.read_csv(INSURANCE_PATH + \"insurance.csv\")"
      ],
      "execution_count": null,
      "outputs": []
    },
    {
      "cell_type": "code",
      "metadata": {
        "id": "zYARmBCThdxo",
        "colab": {
          "base_uri": "https://localhost:8080/",
          "height": 204
        },
        "outputId": "a67e252d-d9d3-4b2d-b7f7-cf16a01f63f2"
      },
      "source": [
        "insurance.head()"
      ],
      "execution_count": null,
      "outputs": [
        {
          "output_type": "execute_result",
          "data": {
            "text/html": [
              "<div>\n",
              "<style scoped>\n",
              "    .dataframe tbody tr th:only-of-type {\n",
              "        vertical-align: middle;\n",
              "    }\n",
              "\n",
              "    .dataframe tbody tr th {\n",
              "        vertical-align: top;\n",
              "    }\n",
              "\n",
              "    .dataframe thead th {\n",
              "        text-align: right;\n",
              "    }\n",
              "</style>\n",
              "<table border=\"1\" class=\"dataframe\">\n",
              "  <thead>\n",
              "    <tr style=\"text-align: right;\">\n",
              "      <th></th>\n",
              "      <th>age</th>\n",
              "      <th>sex</th>\n",
              "      <th>bmi</th>\n",
              "      <th>children</th>\n",
              "      <th>smoker</th>\n",
              "      <th>region</th>\n",
              "      <th>charges</th>\n",
              "    </tr>\n",
              "  </thead>\n",
              "  <tbody>\n",
              "    <tr>\n",
              "      <th>0</th>\n",
              "      <td>19</td>\n",
              "      <td>female</td>\n",
              "      <td>27.900</td>\n",
              "      <td>0</td>\n",
              "      <td>yes</td>\n",
              "      <td>southwest</td>\n",
              "      <td>16884.92400</td>\n",
              "    </tr>\n",
              "    <tr>\n",
              "      <th>1</th>\n",
              "      <td>18</td>\n",
              "      <td>male</td>\n",
              "      <td>33.770</td>\n",
              "      <td>1</td>\n",
              "      <td>no</td>\n",
              "      <td>southeast</td>\n",
              "      <td>1725.55230</td>\n",
              "    </tr>\n",
              "    <tr>\n",
              "      <th>2</th>\n",
              "      <td>28</td>\n",
              "      <td>male</td>\n",
              "      <td>33.000</td>\n",
              "      <td>3</td>\n",
              "      <td>no</td>\n",
              "      <td>southeast</td>\n",
              "      <td>4449.46200</td>\n",
              "    </tr>\n",
              "    <tr>\n",
              "      <th>3</th>\n",
              "      <td>33</td>\n",
              "      <td>male</td>\n",
              "      <td>22.705</td>\n",
              "      <td>0</td>\n",
              "      <td>no</td>\n",
              "      <td>northwest</td>\n",
              "      <td>21984.47061</td>\n",
              "    </tr>\n",
              "    <tr>\n",
              "      <th>4</th>\n",
              "      <td>32</td>\n",
              "      <td>male</td>\n",
              "      <td>28.880</td>\n",
              "      <td>0</td>\n",
              "      <td>no</td>\n",
              "      <td>northwest</td>\n",
              "      <td>3866.85520</td>\n",
              "    </tr>\n",
              "  </tbody>\n",
              "</table>\n",
              "</div>"
            ],
            "text/plain": [
              "   age     sex     bmi  children smoker     region      charges\n",
              "0   19  female  27.900         0    yes  southwest  16884.92400\n",
              "1   18    male  33.770         1     no  southeast   1725.55230\n",
              "2   28    male  33.000         3     no  southeast   4449.46200\n",
              "3   33    male  22.705         0     no  northwest  21984.47061\n",
              "4   32    male  28.880         0     no  northwest   3866.85520"
            ]
          },
          "metadata": {
            "tags": []
          },
          "execution_count": 8
        }
      ]
    },
    {
      "cell_type": "code",
      "metadata": {
        "id": "JJGEeC2nqVYi",
        "colab": {
          "base_uri": "https://localhost:8080/",
          "height": 297
        },
        "outputId": "890923a7-4b5d-46d4-ba99-a58ec4bbdbd2"
      },
      "source": [
        "# What are some basic statistics you can learn right away?\n",
        "insurance.describe()"
      ],
      "execution_count": null,
      "outputs": [
        {
          "output_type": "execute_result",
          "data": {
            "text/html": [
              "<div>\n",
              "<style scoped>\n",
              "    .dataframe tbody tr th:only-of-type {\n",
              "        vertical-align: middle;\n",
              "    }\n",
              "\n",
              "    .dataframe tbody tr th {\n",
              "        vertical-align: top;\n",
              "    }\n",
              "\n",
              "    .dataframe thead th {\n",
              "        text-align: right;\n",
              "    }\n",
              "</style>\n",
              "<table border=\"1\" class=\"dataframe\">\n",
              "  <thead>\n",
              "    <tr style=\"text-align: right;\">\n",
              "      <th></th>\n",
              "      <th>age</th>\n",
              "      <th>bmi</th>\n",
              "      <th>children</th>\n",
              "      <th>charges</th>\n",
              "    </tr>\n",
              "  </thead>\n",
              "  <tbody>\n",
              "    <tr>\n",
              "      <th>count</th>\n",
              "      <td>1338.000000</td>\n",
              "      <td>1338.000000</td>\n",
              "      <td>1338.000000</td>\n",
              "      <td>1338.000000</td>\n",
              "    </tr>\n",
              "    <tr>\n",
              "      <th>mean</th>\n",
              "      <td>39.207025</td>\n",
              "      <td>30.663397</td>\n",
              "      <td>1.094918</td>\n",
              "      <td>13270.422265</td>\n",
              "    </tr>\n",
              "    <tr>\n",
              "      <th>std</th>\n",
              "      <td>14.049960</td>\n",
              "      <td>6.098187</td>\n",
              "      <td>1.205493</td>\n",
              "      <td>12110.011237</td>\n",
              "    </tr>\n",
              "    <tr>\n",
              "      <th>min</th>\n",
              "      <td>18.000000</td>\n",
              "      <td>15.960000</td>\n",
              "      <td>0.000000</td>\n",
              "      <td>1121.873900</td>\n",
              "    </tr>\n",
              "    <tr>\n",
              "      <th>25%</th>\n",
              "      <td>27.000000</td>\n",
              "      <td>26.296250</td>\n",
              "      <td>0.000000</td>\n",
              "      <td>4740.287150</td>\n",
              "    </tr>\n",
              "    <tr>\n",
              "      <th>50%</th>\n",
              "      <td>39.000000</td>\n",
              "      <td>30.400000</td>\n",
              "      <td>1.000000</td>\n",
              "      <td>9382.033000</td>\n",
              "    </tr>\n",
              "    <tr>\n",
              "      <th>75%</th>\n",
              "      <td>51.000000</td>\n",
              "      <td>34.693750</td>\n",
              "      <td>2.000000</td>\n",
              "      <td>16639.912515</td>\n",
              "    </tr>\n",
              "    <tr>\n",
              "      <th>max</th>\n",
              "      <td>64.000000</td>\n",
              "      <td>53.130000</td>\n",
              "      <td>5.000000</td>\n",
              "      <td>63770.428010</td>\n",
              "    </tr>\n",
              "  </tbody>\n",
              "</table>\n",
              "</div>"
            ],
            "text/plain": [
              "               age          bmi     children       charges\n",
              "count  1338.000000  1338.000000  1338.000000   1338.000000\n",
              "mean     39.207025    30.663397     1.094918  13270.422265\n",
              "std      14.049960     6.098187     1.205493  12110.011237\n",
              "min      18.000000    15.960000     0.000000   1121.873900\n",
              "25%      27.000000    26.296250     0.000000   4740.287150\n",
              "50%      39.000000    30.400000     1.000000   9382.033000\n",
              "75%      51.000000    34.693750     2.000000  16639.912515\n",
              "max      64.000000    53.130000     5.000000  63770.428010"
            ]
          },
          "metadata": {
            "tags": []
          },
          "execution_count": 9
        }
      ]
    },
    {
      "cell_type": "code",
      "metadata": {
        "id": "wUaRvG5vp7Gv",
        "colab": {
          "base_uri": "https://localhost:8080/",
          "height": 170
        },
        "outputId": "7eb1908a-a18f-4fc8-c918-1cd179e6646d"
      },
      "source": [
        "# What is the size of this dataset?\n",
        "insurance.memory_usage()"
      ],
      "execution_count": null,
      "outputs": [
        {
          "output_type": "execute_result",
          "data": {
            "text/plain": [
              "Index         128\n",
              "age         10704\n",
              "sex         10704\n",
              "bmi         10704\n",
              "children    10704\n",
              "smoker      10704\n",
              "region      10704\n",
              "charges     10704\n",
              "dtype: int64"
            ]
          },
          "metadata": {
            "tags": []
          },
          "execution_count": 10
        }
      ]
    },
    {
      "cell_type": "code",
      "metadata": {
        "id": "F_BIYh9OrhNi",
        "colab": {
          "base_uri": "https://localhost:8080/",
          "height": 51
        },
        "outputId": "0a5a298a-0cf1-438e-87f1-0fe4cf3feb17"
      },
      "source": [
        "# How many features are there? - 7\n",
        "insurance.axes"
      ],
      "execution_count": null,
      "outputs": [
        {
          "output_type": "execute_result",
          "data": {
            "text/plain": [
              "[RangeIndex(start=0, stop=1338, step=1),\n",
              " Index(['age', 'sex', 'bmi', 'children', 'smoker', 'region', 'charges'], dtype='object')]"
            ]
          },
          "metadata": {
            "tags": []
          },
          "execution_count": 11
        }
      ]
    },
    {
      "cell_type": "code",
      "metadata": {
        "id": "VMWiQE-Grw23",
        "colab": {
          "base_uri": "https://localhost:8080/",
          "height": 255
        },
        "outputId": "83a5909a-14d4-45c3-fb4b-0cf867841a7b"
      },
      "source": [
        "# Does the dataset contain any categorical features? - yes\n",
        "insurance.info"
      ],
      "execution_count": null,
      "outputs": [
        {
          "output_type": "execute_result",
          "data": {
            "text/plain": [
              "<bound method DataFrame.info of       age     sex     bmi  children smoker     region      charges\n",
              "0      19  female  27.900         0    yes  southwest  16884.92400\n",
              "1      18    male  33.770         1     no  southeast   1725.55230\n",
              "2      28    male  33.000         3     no  southeast   4449.46200\n",
              "3      33    male  22.705         0     no  northwest  21984.47061\n",
              "4      32    male  28.880         0     no  northwest   3866.85520\n",
              "...   ...     ...     ...       ...    ...        ...          ...\n",
              "1333   50    male  30.970         3     no  northwest  10600.54830\n",
              "1334   18  female  31.920         0     no  northeast   2205.98080\n",
              "1335   18  female  36.850         0     no  southeast   1629.83350\n",
              "1336   21  female  25.800         0     no  southwest   2007.94500\n",
              "1337   61  female  29.070         0    yes  northwest  29141.36030\n",
              "\n",
              "[1338 rows x 7 columns]>"
            ]
          },
          "metadata": {
            "tags": []
          },
          "execution_count": 12
        }
      ]
    },
    {
      "cell_type": "code",
      "metadata": {
        "id": "eFEpTspfr2rZ",
        "colab": {
          "base_uri": "https://localhost:8080/",
          "height": 255
        },
        "outputId": "cb8b2b1e-69d8-49f8-805f-84201d934fea"
      },
      "source": [
        "# Are there any missing values? - No\n",
        "insurance.isna"
      ],
      "execution_count": null,
      "outputs": [
        {
          "output_type": "execute_result",
          "data": {
            "text/plain": [
              "<bound method DataFrame.isna of       age     sex     bmi  children smoker     region      charges\n",
              "0      19  female  27.900         0    yes  southwest  16884.92400\n",
              "1      18    male  33.770         1     no  southeast   1725.55230\n",
              "2      28    male  33.000         3     no  southeast   4449.46200\n",
              "3      33    male  22.705         0     no  northwest  21984.47061\n",
              "4      32    male  28.880         0     no  northwest   3866.85520\n",
              "...   ...     ...     ...       ...    ...        ...          ...\n",
              "1333   50    male  30.970         3     no  northwest  10600.54830\n",
              "1334   18  female  31.920         0     no  northeast   2205.98080\n",
              "1335   18  female  36.850         0     no  southeast   1629.83350\n",
              "1336   21  female  25.800         0     no  southwest   2007.94500\n",
              "1337   61  female  29.070         0    yes  northwest  29141.36030\n",
              "\n",
              "[1338 rows x 7 columns]>"
            ]
          },
          "metadata": {
            "tags": []
          },
          "execution_count": 13
        }
      ]
    },
    {
      "cell_type": "markdown",
      "metadata": {
        "id": "1rkhak2gtWvK"
      },
      "source": [
        "Given client personal information such as age, sex, bmi, children, smoker, and region of the country, the job is to estimate the expected cost of their insurance. I suspect age, smoker, and bmi will hold the most weight."
      ]
    },
    {
      "cell_type": "markdown",
      "metadata": {
        "id": "Xfw6nVzoR104"
      },
      "source": [
        "---\n",
        "##  Task 2: DATA DISCOVERY, CLEANING, AND SCALING (25 pts)\n",
        "\n",
        "**Data Discover:** Plot out all correlations among the features. You may notice some features are more correlated with your predicted value than other. This information will help you confirm that weights of your regression model later on.\n",
        "\n",
        "**Data Cleaning:** If your dataset has some missing values, make sure you are able to fill those values with the Imputer class. If your dataset has categorical features, make sure you conver those features into numerical using OneHotEncoder class. \n",
        "\n",
        "**Feature Scaling** More importantly, your task is to write some codes to normalize the value of each features as follow:\n",
        "\n",
        "* Subtract the mean value of each feature from the dataset\n",
        "* Scale (divide) the feature values by their respective standard deviation\n",
        "\n",
        "**Implementation Note:** You will need to integrate the above operations into a Pipeline to process and transform the training data, then use the same pipeline to transform any validation and testing data."
      ]
    },
    {
      "cell_type": "code",
      "metadata": {
        "id": "KI2IIJdHR104"
      },
      "source": [
        "# You might want to use the following package\n",
        "from sklearn.model_selection import train_test_split\n",
        "from pandas.plotting import scatter_matrix # optional\n",
        "from sklearn.preprocessing import LabelEncoder\n",
        "from sklearn.preprocessing import OneHotEncoder\n",
        "from sklearn.pipeline import Pipeline\n",
        "from sklearn.preprocessing import StandardScaler"
      ],
      "execution_count": null,
      "outputs": []
    },
    {
      "cell_type": "code",
      "metadata": {
        "id": "IMe3rZ0I9bOd",
        "colab": {
          "base_uri": "https://localhost:8080/",
          "height": 34
        },
        "outputId": "d5b0d105-24fc-49fc-97d0-4d0072c84159"
      },
      "source": [
        "# first I'm going to transform the data so that I can do visualizations of all features \n",
        "# (categorical wouldnt show up if I plotted a correlation map right now)\n",
        "encoder = LabelEncoder()\n",
        "encoder.fit(insurance['smoker'].drop_duplicates())"
      ],
      "execution_count": null,
      "outputs": [
        {
          "output_type": "execute_result",
          "data": {
            "text/plain": [
              "LabelEncoder()"
            ]
          },
          "metadata": {
            "tags": []
          },
          "execution_count": 15
        }
      ]
    },
    {
      "cell_type": "code",
      "metadata": {
        "id": "TfmFeZCC-WkF"
      },
      "source": [
        "# fit the smoker feature into the label encoder which will change the yes/no to a binary 1/0\n",
        "insurance['smoker'] = encoder.transform(insurance['smoker'])"
      ],
      "execution_count": null,
      "outputs": []
    },
    {
      "cell_type": "code",
      "metadata": {
        "id": "F7vxpUge-l0j",
        "colab": {
          "base_uri": "https://localhost:8080/",
          "height": 221
        },
        "outputId": "abcfc074-736f-48d7-b93d-78ece4b104cb"
      },
      "source": [
        "insurance['smoker']"
      ],
      "execution_count": null,
      "outputs": [
        {
          "output_type": "execute_result",
          "data": {
            "text/plain": [
              "0       1\n",
              "1       0\n",
              "2       0\n",
              "3       0\n",
              "4       0\n",
              "       ..\n",
              "1333    0\n",
              "1334    0\n",
              "1335    0\n",
              "1336    0\n",
              "1337    1\n",
              "Name: smoker, Length: 1338, dtype: int64"
            ]
          },
          "metadata": {
            "tags": []
          },
          "execution_count": 17
        }
      ]
    },
    {
      "cell_type": "code",
      "metadata": {
        "id": "oKc5AcQj-qv0"
      },
      "source": [
        "# repeat the same thing for sex\n",
        "encoder.fit(insurance['sex'].drop_duplicates())\n",
        "insurance['sex'] = encoder.transform(insurance['sex'])"
      ],
      "execution_count": null,
      "outputs": []
    },
    {
      "cell_type": "code",
      "metadata": {
        "id": "JD5zKVnN_CAD",
        "colab": {
          "base_uri": "https://localhost:8080/",
          "height": 221
        },
        "outputId": "3926b33e-469a-4eb6-ac5f-402d4b318637"
      },
      "source": [
        "insurance['sex']"
      ],
      "execution_count": null,
      "outputs": [
        {
          "output_type": "execute_result",
          "data": {
            "text/plain": [
              "0       0\n",
              "1       1\n",
              "2       1\n",
              "3       1\n",
              "4       1\n",
              "       ..\n",
              "1333    1\n",
              "1334    0\n",
              "1335    0\n",
              "1336    0\n",
              "1337    0\n",
              "Name: sex, Length: 1338, dtype: int64"
            ]
          },
          "metadata": {
            "tags": []
          },
          "execution_count": 19
        }
      ]
    },
    {
      "cell_type": "code",
      "metadata": {
        "id": "oMZbPxBN_GZ3",
        "colab": {
          "base_uri": "https://localhost:8080/",
          "height": 204
        },
        "outputId": "5a20aeb9-d0cf-414a-e24b-c27dcc2a7a74"
      },
      "source": [
        "insurance.head()"
      ],
      "execution_count": null,
      "outputs": [
        {
          "output_type": "execute_result",
          "data": {
            "text/html": [
              "<div>\n",
              "<style scoped>\n",
              "    .dataframe tbody tr th:only-of-type {\n",
              "        vertical-align: middle;\n",
              "    }\n",
              "\n",
              "    .dataframe tbody tr th {\n",
              "        vertical-align: top;\n",
              "    }\n",
              "\n",
              "    .dataframe thead th {\n",
              "        text-align: right;\n",
              "    }\n",
              "</style>\n",
              "<table border=\"1\" class=\"dataframe\">\n",
              "  <thead>\n",
              "    <tr style=\"text-align: right;\">\n",
              "      <th></th>\n",
              "      <th>age</th>\n",
              "      <th>sex</th>\n",
              "      <th>bmi</th>\n",
              "      <th>children</th>\n",
              "      <th>smoker</th>\n",
              "      <th>region</th>\n",
              "      <th>charges</th>\n",
              "    </tr>\n",
              "  </thead>\n",
              "  <tbody>\n",
              "    <tr>\n",
              "      <th>0</th>\n",
              "      <td>19</td>\n",
              "      <td>0</td>\n",
              "      <td>27.900</td>\n",
              "      <td>0</td>\n",
              "      <td>1</td>\n",
              "      <td>southwest</td>\n",
              "      <td>16884.92400</td>\n",
              "    </tr>\n",
              "    <tr>\n",
              "      <th>1</th>\n",
              "      <td>18</td>\n",
              "      <td>1</td>\n",
              "      <td>33.770</td>\n",
              "      <td>1</td>\n",
              "      <td>0</td>\n",
              "      <td>southeast</td>\n",
              "      <td>1725.55230</td>\n",
              "    </tr>\n",
              "    <tr>\n",
              "      <th>2</th>\n",
              "      <td>28</td>\n",
              "      <td>1</td>\n",
              "      <td>33.000</td>\n",
              "      <td>3</td>\n",
              "      <td>0</td>\n",
              "      <td>southeast</td>\n",
              "      <td>4449.46200</td>\n",
              "    </tr>\n",
              "    <tr>\n",
              "      <th>3</th>\n",
              "      <td>33</td>\n",
              "      <td>1</td>\n",
              "      <td>22.705</td>\n",
              "      <td>0</td>\n",
              "      <td>0</td>\n",
              "      <td>northwest</td>\n",
              "      <td>21984.47061</td>\n",
              "    </tr>\n",
              "    <tr>\n",
              "      <th>4</th>\n",
              "      <td>32</td>\n",
              "      <td>1</td>\n",
              "      <td>28.880</td>\n",
              "      <td>0</td>\n",
              "      <td>0</td>\n",
              "      <td>northwest</td>\n",
              "      <td>3866.85520</td>\n",
              "    </tr>\n",
              "  </tbody>\n",
              "</table>\n",
              "</div>"
            ],
            "text/plain": [
              "   age  sex     bmi  children  smoker     region      charges\n",
              "0   19    0  27.900         0       1  southwest  16884.92400\n",
              "1   18    1  33.770         1       0  southeast   1725.55230\n",
              "2   28    1  33.000         3       0  southeast   4449.46200\n",
              "3   33    1  22.705         0       0  northwest  21984.47061\n",
              "4   32    1  28.880         0       0  northwest   3866.85520"
            ]
          },
          "metadata": {
            "tags": []
          },
          "execution_count": 20
        }
      ]
    },
    {
      "cell_type": "code",
      "metadata": {
        "id": "5XvScTMlADIF"
      },
      "source": [
        "# I'll leave region to be OneHotEncoded later because I feel it will be too broad to represent in a correlation map"
      ],
      "execution_count": null,
      "outputs": []
    },
    {
      "cell_type": "code",
      "metadata": {
        "id": "5XnlgVMDul4A",
        "colab": {
          "base_uri": "https://localhost:8080/",
          "height": 504
        },
        "outputId": "e2b981a8-86d0-4760-e7ec-e1eda09571e0"
      },
      "source": [
        "# next I'm going to do the visualizations\n",
        "# plot a correlation matrix that is easy to read\n",
        "import seaborn as sns\n",
        "corr_matrix = insurance.corr()\n",
        "plt.figure(figsize=(10, 8))\n",
        "cmap = sns.cubehelix_palette(light=1, as_cmap=True)\n",
        "sns.heatmap(corr_matrix, vmax=.8, linewidths=0.01,\n",
        "            square=True,annot=True,cmap=cmap,linecolor=\"white\")"
      ],
      "execution_count": null,
      "outputs": [
        {
          "output_type": "execute_result",
          "data": {
            "text/plain": [
              "<matplotlib.axes._subplots.AxesSubplot at 0x7f376081cc18>"
            ]
          },
          "metadata": {
            "tags": []
          },
          "execution_count": 22
        },
        {
          "output_type": "display_data",
          "data": {
            "image/png": "[encoded data removed]",
            "text/plain": [
              "<Figure size 720x576 with 2 Axes>"
            ]
          },
          "metadata": {
            "tags": []
          }
        }
      ]
    },
    {
      "cell_type": "markdown",
      "metadata": {
        "id": "SPi2mXEUBxpR"
      },
      "source": [
        "Smoker is the only feature strongly correlated with charges"
      ]
    },
    {
      "cell_type": "code",
      "metadata": {
        "id": "40SsI0hFzGWu",
        "colab": {
          "base_uri": "https://localhost:8080/",
          "height": 302
        },
        "outputId": "8a417ada-5010-4773-b629-cf2c1552c6fa"
      },
      "source": [
        "# plot distributions\n",
        "sns.set()\n",
        "sns.distplot(insurance['charges'], color=\"olivedrab\")"
      ],
      "execution_count": null,
      "outputs": [
        {
          "output_type": "execute_result",
          "data": {
            "text/plain": [
              "<matplotlib.axes._subplots.AxesSubplot at 0x7f375c3d6ba8>"
            ]
          },
          "metadata": {
            "tags": []
          },
          "execution_count": 24
        },
        {
          "output_type": "display_data",
          "data": {
            "image/png": "[encoded data removed]",
            "text/plain": [
              "<Figure size 432x288 with 1 Axes>"
            ]
          },
          "metadata": {
            "tags": []
          }
        }
      ]
    },
    {
      "cell_type": "code",
      "metadata": {
        "id": "EaDQKvXVDtzJ",
        "colab": {
          "base_uri": "https://localhost:8080/",
          "height": 302
        },
        "outputId": "eb5b23d1-1874-4e1c-e80a-b62e2f3f16ae"
      },
      "source": [
        "sns.distplot(insurance['bmi'], color=\"olivedrab\")"
      ],
      "execution_count": null,
      "outputs": [
        {
          "output_type": "execute_result",
          "data": {
            "text/plain": [
              "<matplotlib.axes._subplots.AxesSubplot at 0x7f375c357160>"
            ]
          },
          "metadata": {
            "tags": []
          },
          "execution_count": 25
        },
        {
          "output_type": "display_data",
          "data": {
            "image/png": "[encoded data removed]",
            "text/plain": [
              "<Figure size 432x288 with 1 Axes>"
            ]
          },
          "metadata": {
            "tags": []
          }
        }
      ]
    },
    {
      "cell_type": "markdown",
      "metadata": {
        "id": "8cPF9HWiDx_w"
      },
      "source": [
        "BMI is normally distributed"
      ]
    },
    {
      "cell_type": "markdown",
      "metadata": {
        "id": "J8NWHi_eDash"
      },
      "source": [
        "The charges skew to the right"
      ]
    },
    {
      "cell_type": "code",
      "metadata": {
        "id": "7T6hr5YWzlKO",
        "colab": {
          "base_uri": "https://localhost:8080/",
          "height": 302
        },
        "outputId": "7371bd7b-c8c6-4796-db0b-4bad2462b717"
      },
      "source": [
        "# lets see which regions have the highest charges\n",
        "sns.barplot(x=\"region\", y=\"charges\", data=insurance)"
      ],
      "execution_count": null,
      "outputs": [
        {
          "output_type": "execute_result",
          "data": {
            "text/plain": [
              "<matplotlib.axes._subplots.AxesSubplot at 0x7f375c2ab0f0>"
            ]
          },
          "metadata": {
            "tags": []
          },
          "execution_count": 26
        },
        {
          "output_type": "display_data",
          "data": {
            "image/png": "[encoded data removed]",
            "text/plain": [
              "<Figure size 432x288 with 1 Axes>"
            ]
          },
          "metadata": {
            "tags": []
          }
        }
      ]
    },
    {
      "cell_type": "markdown",
      "metadata": {
        "id": "Z8-9_ckp0Asi"
      },
      "source": [
        "The southeast seems to have higher charges."
      ]
    },
    {
      "cell_type": "code",
      "metadata": {
        "id": "w74IHnh93N9N",
        "colab": {
          "base_uri": "https://localhost:8080/",
          "height": 302
        },
        "outputId": "449417a7-1734-42fe-cb25-6147020ea955"
      },
      "source": [
        "sns.barplot(x=\"children\", y=\"charges\", data=insurance)"
      ],
      "execution_count": null,
      "outputs": [
        {
          "output_type": "execute_result",
          "data": {
            "text/plain": [
              "<matplotlib.axes._subplots.AxesSubplot at 0x7f375c28b5f8>"
            ]
          },
          "metadata": {
            "tags": []
          },
          "execution_count": 27
        },
        {
          "output_type": "display_data",
          "data": {
            "image/png": "[encoded data removed]",
            "text/plain": [
              "<Figure size 432x288 with 1 Axes>"
            ]
          },
          "metadata": {
            "tags": []
          }
        }
      ]
    },
    {
      "cell_type": "code",
      "metadata": {
        "id": "5kUquin80OUB",
        "colab": {
          "base_uri": "https://localhost:8080/",
          "height": 382
        },
        "outputId": "0ace3cd7-81ae-4215-a638-e9ede6ea122d"
      },
      "source": [
        "# Let's plot out a similar chart between male and female\n",
        "# women are 1 and men are 0\n",
        "sns.catplot(x=\"sex\", y=\"charges\", hue=\"smoker\", data=insurance)"
      ],
      "execution_count": null,
      "outputs": [
        {
          "output_type": "execute_result",
          "data": {
            "text/plain": [
              "<seaborn.axisgrid.FacetGrid at 0x7f375c309588>"
            ]
          },
          "metadata": {
            "tags": []
          },
          "execution_count": 28
        },
        {
          "output_type": "display_data",
          "data": {
            "image/png": "[encoded data removed]",
            "text/plain": [
              "<Figure size 406.925x360 with 1 Axes>"
            ]
          },
          "metadata": {
            "tags": []
          }
        }
      ]
    },
    {
      "cell_type": "code",
      "metadata": {
        "id": "lwrbJ4yW0289",
        "colab": {
          "base_uri": "https://localhost:8080/",
          "height": 310
        },
        "outputId": "2238820d-c7c5-473b-8725-389f118269fe"
      },
      "source": [
        "# combine the 2 plots to include region\n",
        "sns.catplot(x=\"sex\", y=\"charges\", hue=\"smoker\", col=\"region\", data=insurance, kind=\"bar\", height=4, aspect=.7)"
      ],
      "execution_count": null,
      "outputs": [
        {
          "output_type": "execute_result",
          "data": {
            "text/plain": [
              "<seaborn.axisgrid.FacetGrid at 0x7f375c4d7e48>"
            ]
          },
          "metadata": {
            "tags": []
          },
          "execution_count": 29
        },
        {
          "output_type": "display_data",
          "data": {
            "image/png": "[encoded data removed]",
            "text/plain": [
              "<Figure size 853.325x288 with 4 Axes>"
            ]
          },
          "metadata": {
            "tags": []
          }
        }
      ]
    },
    {
      "cell_type": "code",
      "metadata": {
        "id": "Va6X8ffpGH8l",
        "colab": {
          "base_uri": "https://localhost:8080/",
          "height": 382
        },
        "outputId": "9d0e8679-dcfe-4605-bf90-070a2de1cd2b"
      },
      "source": [
        "# what is the ratio of smokers to non smokers?\n",
        "sns.catplot(x=\"smoker\", kind=\"count\", hue=\"sex\", data=insurance)"
      ],
      "execution_count": null,
      "outputs": [
        {
          "output_type": "execute_result",
          "data": {
            "text/plain": [
              "<seaborn.axisgrid.FacetGrid at 0x7f375f2b1278>"
            ]
          },
          "metadata": {
            "tags": []
          },
          "execution_count": 30
        },
        {
          "output_type": "display_data",
          "data": {
            "image/png": "[encoded data removed]",
            "text/plain": [
              "<Figure size 406.6x360 with 1 Axes>"
            ]
          },
          "metadata": {
            "tags": []
          }
        }
      ]
    },
    {
      "cell_type": "markdown",
      "metadata": {
        "id": "pJmbNcoKGlv4"
      },
      "source": [
        "There are about 5X more nonsmokers than smokers. I can dive deeper into smoking to see if it is normally distributed"
      ]
    },
    {
      "cell_type": "code",
      "metadata": {
        "id": "_x-sQOKtG26F",
        "colab": {
          "base_uri": "https://localhost:8080/",
          "height": 302
        },
        "outputId": "0f8263a4-e91b-407e-c10a-85336fb9ebdf"
      },
      "source": [
        "sns.distplot(insurance[(insurance[\"smoker\"] == 1)][\"charges\"], color=\"olivedrab\")"
      ],
      "execution_count": null,
      "outputs": [
        {
          "output_type": "execute_result",
          "data": {
            "text/plain": [
              "<matplotlib.axes._subplots.AxesSubplot at 0x7f375c427eb8>"
            ]
          },
          "metadata": {
            "tags": []
          },
          "execution_count": 31
        },
        {
          "output_type": "display_data",
          "data": {
            "image/png": "[encoded data removed]",
            "text/plain": [
              "<Figure size 432x288 with 1 Axes>"
            ]
          },
          "metadata": {
            "tags": []
          }
        }
      ]
    },
    {
      "cell_type": "markdown",
      "metadata": {
        "id": "_0pFP3J9HyRw"
      },
      "source": [
        "The dip in the middle is weird, it might have to do with age or bmi.\n",
        "\n",
        "---\n",
        "\n"
      ]
    },
    {
      "cell_type": "code",
      "metadata": {
        "id": "L0qFczR0IMbV",
        "colab": {
          "base_uri": "https://localhost:8080/",
          "height": 302
        },
        "outputId": "c0d54bef-e98e-42a6-a622-b07d99ef14f1"
      },
      "source": [
        "sns.distplot(insurance[(insurance[\"smoker\"] == 0)][\"charges\"], color=\"olivedrab\")"
      ],
      "execution_count": null,
      "outputs": [
        {
          "output_type": "execute_result",
          "data": {
            "text/plain": [
              "<matplotlib.axes._subplots.AxesSubplot at 0x7f375c9c17f0>"
            ]
          },
          "metadata": {
            "tags": []
          },
          "execution_count": 32
        },
        {
          "output_type": "display_data",
          "data": {
            "image/png": "[encoded data removed]",
            "text/plain": [
              "<Figure size 432x288 with 1 Axes>"
            ]
          },
          "metadata": {
            "tags": []
          }
        }
      ]
    },
    {
      "cell_type": "markdown",
      "metadata": {
        "id": "ydaM_6oJIRxY"
      },
      "source": [
        "Non smokers are more evenly distributed"
      ]
    },
    {
      "cell_type": "code",
      "metadata": {
        "id": "MYB5ilY9A_E4",
        "colab": {
          "base_uri": "https://localhost:8080/",
          "height": 49
        },
        "outputId": "adcf4e17-bcb0-4e10-86b9-e2307882c9ee"
      },
      "source": [
        "# Check to see if there's any missing value in the data with .isnull()\n",
        "sample_incomplete_rows = insurance[insurance.isnull().any(axis=1)].head()\n",
        "sample_incomplete_rows"
      ],
      "execution_count": null,
      "outputs": [
        {
          "output_type": "execute_result",
          "data": {
            "text/html": [
              "<div>\n",
              "<style scoped>\n",
              "    .dataframe tbody tr th:only-of-type {\n",
              "        vertical-align: middle;\n",
              "    }\n",
              "\n",
              "    .dataframe tbody tr th {\n",
              "        vertical-align: top;\n",
              "    }\n",
              "\n",
              "    .dataframe thead th {\n",
              "        text-align: right;\n",
              "    }\n",
              "</style>\n",
              "<table border=\"1\" class=\"dataframe\">\n",
              "  <thead>\n",
              "    <tr style=\"text-align: right;\">\n",
              "      <th></th>\n",
              "      <th>age</th>\n",
              "      <th>sex</th>\n",
              "      <th>bmi</th>\n",
              "      <th>children</th>\n",
              "      <th>smoker</th>\n",
              "      <th>region</th>\n",
              "      <th>charges</th>\n",
              "    </tr>\n",
              "  </thead>\n",
              "  <tbody>\n",
              "  </tbody>\n",
              "</table>\n",
              "</div>"
            ],
            "text/plain": [
              "Empty DataFrame\n",
              "Columns: [age, sex, bmi, children, smoker, region, charges]\n",
              "Index: []"
            ]
          },
          "metadata": {
            "tags": []
          },
          "execution_count": 33
        }
      ]
    },
    {
      "cell_type": "code",
      "metadata": {
        "id": "zSDcae4R3zNa"
      },
      "source": [
        "# Start creating the data transformation pipeline\n",
        "num_feats = [\"age\", \"bmi\", \"children\", \"smoker\", \"sex\"]\n",
        "cat_feats = [\"region\"] "
      ],
      "execution_count": null,
      "outputs": []
    },
    {
      "cell_type": "code",
      "metadata": {
        "id": "-1n0hA5uLBAn",
        "colab": {
          "base_uri": "https://localhost:8080/",
          "height": 34
        },
        "outputId": "5e722a93-0d19-48a9-aac6-7254fc27d27b"
      },
      "source": [
        "insurance.shape"
      ],
      "execution_count": null,
      "outputs": [
        {
          "output_type": "execute_result",
          "data": {
            "text/plain": [
              "(1338, 7)"
            ]
          },
          "metadata": {
            "tags": []
          },
          "execution_count": 35
        }
      ]
    },
    {
      "cell_type": "code",
      "metadata": {
        "id": "miNvcZjzLI0e"
      },
      "source": [
        "#features array\n",
        "x = insurance.drop(\"charges\", axis=1)"
      ],
      "execution_count": null,
      "outputs": []
    },
    {
      "cell_type": "code",
      "metadata": {
        "id": "gk_bzlYkLlm1"
      },
      "source": [
        "# label array\n",
        "y = insurance[\"charges\"]"
      ],
      "execution_count": null,
      "outputs": []
    },
    {
      "cell_type": "code",
      "metadata": {
        "id": "RAtdk97h_j_x"
      },
      "source": [
        "# pipeline for the feature number columns\n",
        "num_pipeline = Pipeline([\n",
        "      ('std_scaler', StandardScaler()),\n",
        "  ])"
      ],
      "execution_count": null,
      "outputs": []
    },
    {
      "cell_type": "code",
      "metadata": {
        "id": "SZ2MNZrA_kRT"
      },
      "source": [
        "from sklearn.compose import ColumnTransformer\n",
        "\n",
        "# full pipeline that oneHotEncodes categorical feats\n",
        "# and standard scales numerical\n",
        "full_pipeline = ColumnTransformer([\n",
        "        (\"num\", num_pipeline, num_feats),\n",
        "        (\"cat\", OneHotEncoder(), cat_feats),\n",
        "  ])"
      ],
      "execution_count": null,
      "outputs": []
    },
    {
      "cell_type": "code",
      "metadata": {
        "id": "6l0JWDGN_kgO"
      },
      "source": [
        "x = full_pipeline.fit_transform(x)"
      ],
      "execution_count": null,
      "outputs": []
    },
    {
      "cell_type": "code",
      "metadata": {
        "id": "xewxkYLzK0zP"
      },
      "source": [
        "# Your code goes here for this section.\n",
        "X_train = [];\n",
        "y_train = [];\n",
        "X_test = [];\n",
        "y_test = [];\n",
        "\n",
        "X_train, X_test, y_train, y_test = train_test_split(x,y, random_state=0)"
      ],
      "execution_count": null,
      "outputs": []
    },
    {
      "cell_type": "code",
      "metadata": {
        "id": "5lnVWh_QN3IX",
        "colab": {
          "base_uri": "https://localhost:8080/",
          "height": 238
        },
        "outputId": "2ff10921-47fe-4d37-fefa-e5a3bd546d9a"
      },
      "source": [
        "X_train"
      ],
      "execution_count": null,
      "outputs": [
        {
          "output_type": "execute_result",
          "data": {
            "text/plain": [
              "array([[-0.51314879, -0.17608483, -0.07876719, ...,  0.        ,\n",
              "         1.        ,  0.        ],\n",
              "       [ 1.55168573, -1.41462066, -0.90861367, ...,  0.        ,\n",
              "         0.        ,  0.        ],\n",
              "       [-1.43876426, -0.99466679, -0.07876719, ...,  0.        ,\n",
              "         0.        ,  1.        ],\n",
              "       ...,\n",
              "       [ 0.05646073, -0.91592544, -0.90861367, ...,  0.        ,\n",
              "         1.        ,  0.        ],\n",
              "       [-1.43876426,  0.79833938, -0.90861367, ...,  1.        ,\n",
              "         0.        ,  0.        ],\n",
              "       [-0.4419476 , -1.99533811, -0.07876719, ...,  0.        ,\n",
              "         0.        ,  1.        ]])"
            ]
          },
          "metadata": {
            "tags": []
          },
          "execution_count": 42
        }
      ]
    },
    {
      "cell_type": "code",
      "metadata": {
        "id": "pqsGUaiXN67o",
        "colab": {
          "base_uri": "https://localhost:8080/",
          "height": 238
        },
        "outputId": "850731a6-3877-45b2-c7a4-f9fff6875be6"
      },
      "source": [
        "X_test"
      ],
      "execution_count": null,
      "outputs": [
        {
          "output_type": "execute_result",
          "data": {
            "text/plain": [
              "array([[ 0.91087502, -0.0760177 , -0.07876719, ...,  0.        ,\n",
              "         0.        ,  1.        ],\n",
              "       [ 0.55486907, -0.21217462, -0.07876719, ...,  0.        ,\n",
              "         1.        ,  0.        ],\n",
              "       [ 0.62607026,  1.62430334,  0.75107928, ...,  1.        ,\n",
              "         0.        ,  0.        ],\n",
              "       ...,\n",
              "       [ 0.83967383, -0.10390526, -0.07876719, ...,  0.        ,\n",
              "         1.        ,  0.        ],\n",
              "       [-1.1539595 ,  1.05588922,  1.58092576, ...,  0.        ,\n",
              "         0.        ,  1.        ],\n",
              "       [ 1.55168573, -0.26138796, -0.90861367, ...,  1.        ,\n",
              "         0.        ,  0.        ]])"
            ]
          },
          "metadata": {
            "tags": []
          },
          "execution_count": 43
        }
      ]
    },
    {
      "cell_type": "code",
      "metadata": {
        "id": "rDiDfZglAEa3"
      },
      "source": [
        "y_test = np.asarray(y_test)\n",
        "y_train = np.asarray(y_train)"
      ],
      "execution_count": null,
      "outputs": []
    },
    {
      "cell_type": "code",
      "metadata": {
        "id": "ZfgCv84_ALuj"
      },
      "source": [
        "shape = (len(y_train), 1)\n",
        "y_train = y_train.reshape(shape)\n",
        "\n",
        "shape1 = (len(y_test), 1)\n",
        "y_test = y_test.reshape(shape1)"
      ],
      "execution_count": null,
      "outputs": []
    },
    {
      "cell_type": "code",
      "metadata": {
        "id": "2dkXCP8kN-cd",
        "colab": {
          "base_uri": "https://localhost:8080/",
          "height": 136
        },
        "outputId": "2200664e-9170-4d72-b9a3-c85d9200f206"
      },
      "source": [
        "y_train"
      ],
      "execution_count": null,
      "outputs": [
        {
          "output_type": "execute_result",
          "data": {
            "text/plain": [
              "array([[ 4562.8421],\n",
              "       [13616.3586],\n",
              "       [ 1837.237 ],\n",
              "       ...,\n",
              "       [ 5415.6612],\n",
              "       [ 1646.4297],\n",
              "       [ 4766.022 ]])"
            ]
          },
          "metadata": {
            "tags": []
          },
          "execution_count": 46
        }
      ]
    },
    {
      "cell_type": "code",
      "metadata": {
        "id": "PfOBy0I2a9j-",
        "colab": {
          "base_uri": "https://localhost:8080/",
          "height": 1000
        },
        "outputId": "30a746c4-9cf3-4f14-8f38-e30f278c5422"
      },
      "source": [
        "y_test"
      ],
      "execution_count": null,
      "outputs": [
        {
          "output_type": "execute_result",
          "data": {
            "text/plain": [
              "array([[ 9724.53    ],\n",
              "       [ 8547.6913  ],\n",
              "       [45702.02235 ],\n",
              "       [12950.0712  ],\n",
              "       [ 9644.2525  ],\n",
              "       [ 4500.33925 ],\n",
              "       [ 2198.18985 ],\n",
              "       [11436.73815 ],\n",
              "       [ 7537.1639  ],\n",
              "       [ 5425.02335 ],\n",
              "       [ 6753.038   ],\n",
              "       [10493.9458  ],\n",
              "       [ 7337.748   ],\n",
              "       [ 4185.0979  ],\n",
              "       [18310.742   ],\n",
              "       [10702.6424  ],\n",
              "       [12523.6048  ],\n",
              "       [ 3490.5491  ],\n",
              "       [ 6457.8434  ],\n",
              "       [33475.81715 ],\n",
              "       [23967.38305 ],\n",
              "       [12643.3778  ],\n",
              "       [23045.56616 ],\n",
              "       [23065.4207  ],\n",
              "       [ 1674.6323  ],\n",
              "       [ 4667.60765 ],\n",
              "       [ 3732.6251  ],\n",
              "       [ 7682.67    ],\n",
              "       [ 3756.6216  ],\n",
              "       [ 8413.46305 ],\n",
              "       [ 8059.6791  ],\n",
              "       [48970.2476  ],\n",
              "       [12979.358   ],\n",
              "       [20630.28351 ],\n",
              "       [14571.8908  ],\n",
              "       [ 4137.5227  ],\n",
              "       [ 8347.1643  ],\n",
              "       [51194.55914 ],\n",
              "       [40003.33225 ],\n",
              "       [ 1880.487   ],\n",
              "       [ 5458.04645 ],\n",
              "       [ 2867.1196  ],\n",
              "       [20149.3229  ],\n",
              "       [47496.49445 ],\n",
              "       [36149.4835  ],\n",
              "       [26018.95052 ],\n",
              "       [19749.38338 ],\n",
              "       [ 6940.90985 ],\n",
              "       [ 4718.20355 ],\n",
              "       [22192.43711 ],\n",
              "       [ 2899.48935 ],\n",
              "       [18838.70366 ],\n",
              "       [23568.272   ],\n",
              "       [46255.1125  ],\n",
              "       [24227.33724 ],\n",
              "       [ 3268.84665 ],\n",
              "       [ 2322.6218  ],\n",
              "       [ 8827.2099  ],\n",
              "       [14478.33015 ],\n",
              "       [13112.6048  ],\n",
              "       [ 1253.936   ],\n",
              "       [46718.16325 ],\n",
              "       [13919.8229  ],\n",
              "       [ 9630.397   ],\n",
              "       [10736.87075 ],\n",
              "       [ 9880.068   ],\n",
              "       [32548.3405  ],\n",
              "       [38746.3551  ],\n",
              "       [ 3180.5101  ],\n",
              "       [ 8162.71625 ],\n",
              "       [13041.921   ],\n",
              "       [11554.2236  ],\n",
              "       [16232.847   ],\n",
              "       [13887.9685  ],\n",
              "       [13012.20865 ],\n",
              "       [13217.0945  ],\n",
              "       [ 7147.105   ],\n",
              "       [ 7731.4271  ],\n",
              "       [20296.86345 ],\n",
              "       [47403.88    ],\n",
              "       [11658.37915 ],\n",
              "       [45863.205   ],\n",
              "       [ 2055.3249  ],\n",
              "       [ 7441.053   ],\n",
              "       [41034.2214  ],\n",
              "       [18972.495   ],\n",
              "       [ 3410.324   ],\n",
              "       [ 2699.56835 ],\n",
              "       [12333.828   ],\n",
              "       [36837.467   ],\n",
              "       [ 6334.34355 ],\n",
              "       [10214.636   ],\n",
              "       [17878.90068 ],\n",
              "       [ 8515.7587  ],\n",
              "       [ 4518.82625 ],\n",
              "       [ 5148.5526  ],\n",
              "       [42303.69215 ],\n",
              "       [38998.546   ],\n",
              "       [ 5327.40025 ],\n",
              "       [10602.385   ],\n",
              "       [ 1824.2854  ],\n",
              "       [ 5377.4578  ],\n",
              "       [ 4349.462   ],\n",
              "       [37742.5757  ],\n",
              "       [32787.45859 ],\n",
              "       [ 3353.4703  ],\n",
              "       [10577.087   ],\n",
              "       [ 3556.9223  ],\n",
              "       [11944.59435 ],\n",
              "       [52590.82939 ],\n",
              "       [12475.3513  ],\n",
              "       [ 4266.1658  ],\n",
              "       [ 9249.4952  ],\n",
              "       [33732.6867  ],\n",
              "       [48675.5177  ],\n",
              "       [ 7729.64575 ],\n",
              "       [ 1964.78    ],\n",
              "       [ 8444.474   ],\n",
              "       [12347.172   ],\n",
              "       [ 9301.89355 ],\n",
              "       [42124.5153  ],\n",
              "       [ 9991.03765 ],\n",
              "       [14319.031   ],\n",
              "       [ 5428.7277  ],\n",
              "       [ 7626.993   ],\n",
              "       [ 4906.40965 ],\n",
              "       [23401.30575 ],\n",
              "       [21098.55405 ],\n",
              "       [48173.361   ],\n",
              "       [ 1917.3184  ],\n",
              "       [ 8219.2039  ],\n",
              "       [ 1725.5523  ],\n",
              "       [ 5976.8311  ],\n",
              "       [ 9361.3268  ],\n",
              "       [22144.032   ],\n",
              "       [35491.64    ],\n",
              "       [19515.5416  ],\n",
              "       [10107.2206  ],\n",
              "       [23244.7902  ],\n",
              "       [ 2789.0574  ],\n",
              "       [ 2261.5688  ],\n",
              "       [10594.50155 ],\n",
              "       [ 9304.7019  ],\n",
              "       [10435.06525 ],\n",
              "       [ 4894.7533  ],\n",
              "       [14313.8463  ],\n",
              "       [28287.89766 ],\n",
              "       [14426.07385 ],\n",
              "       [ 1627.28245 ],\n",
              "       [25517.11363 ],\n",
              "       [ 6555.07035 ],\n",
              "       [39611.7577  ],\n",
              "       [ 9964.06    ],\n",
              "       [ 1720.3537  ],\n",
              "       [ 2730.10785 ],\n",
              "       [ 6500.2359  ],\n",
              "       [ 2643.2685  ],\n",
              "       [ 1719.4363  ],\n",
              "       [11085.5868  ],\n",
              "       [10115.00885 ],\n",
              "       [ 4846.92015 ],\n",
              "       [12982.8747  ],\n",
              "       [28923.13692 ],\n",
              "       [ 9391.346   ],\n",
              "       [ 4544.2348  ],\n",
              "       [17128.42608 ],\n",
              "       [13844.506   ],\n",
              "       [ 6113.23105 ],\n",
              "       [ 4441.21315 ],\n",
              "       [ 1633.9618  ],\n",
              "       [ 4058.71245 ],\n",
              "       [ 4435.0942  ],\n",
              "       [ 8310.83915 ],\n",
              "       [ 1986.9334  ],\n",
              "       [ 4260.744   ],\n",
              "       [ 4504.6624  ],\n",
              "       [ 4428.88785 ],\n",
              "       [ 6117.4945  ],\n",
              "       [30184.9367  ],\n",
              "       [ 1708.92575 ],\n",
              "       [11187.6567  ],\n",
              "       [ 6796.86325 ],\n",
              "       [11356.6609  ],\n",
              "       [ 2498.4144  ],\n",
              "       [27375.90478 ],\n",
              "       [28101.33305 ],\n",
              "       [ 2254.7967  ],\n",
              "       [ 2597.779   ],\n",
              "       [14692.66935 ],\n",
              "       [10370.91255 ],\n",
              "       [41097.16175 ],\n",
              "       [ 3981.9768  ],\n",
              "       [ 5472.449   ],\n",
              "       [21223.6758  ],\n",
              "       [ 2534.39375 ],\n",
              "       [ 1972.95    ],\n",
              "       [ 6406.4107  ],\n",
              "       [ 6551.7501  ],\n",
              "       [ 4058.1161  ],\n",
              "       [ 4243.59005 ],\n",
              "       [11512.405   ],\n",
              "       [46889.2612  ],\n",
              "       [12268.63225 ],\n",
              "       [19199.944   ],\n",
              "       [ 4433.3877  ],\n",
              "       [42969.8527  ],\n",
              "       [23241.47453 ],\n",
              "       [ 9140.951   ],\n",
              "       [ 5836.5204  ],\n",
              "       [ 1149.3959  ],\n",
              "       [ 8765.249   ],\n",
              "       [14043.4767  ],\n",
              "       [ 5312.16985 ],\n",
              "       [10795.93733 ],\n",
              "       [ 6282.235   ],\n",
              "       [ 1969.614   ],\n",
              "       [ 6746.7425  ],\n",
              "       [ 5354.07465 ],\n",
              "       [14001.2867  ],\n",
              "       [ 6877.9801  ],\n",
              "       [ 6196.448   ],\n",
              "       [ 7986.47525 ],\n",
              "       [ 8277.523   ],\n",
              "       [ 3206.49135 ],\n",
              "       [11848.141   ],\n",
              "       [14210.53595 ],\n",
              "       [12265.5069  ],\n",
              "       [11837.16    ],\n",
              "       [ 6652.5288  ],\n",
              "       [ 2137.6536  ],\n",
              "       [ 1131.5066  ],\n",
              "       [ 8342.90875 ],\n",
              "       [12244.531   ],\n",
              "       [ 4561.1885  ],\n",
              "       [17626.23951 ],\n",
              "       [ 6875.961   ],\n",
              "       [ 9447.3824  ],\n",
              "       [34254.05335 ],\n",
              "       [ 6067.12675 ],\n",
              "       [11729.6795  ],\n",
              "       [ 5383.536   ],\n",
              "       [37465.34375 ],\n",
              "       [ 7371.772   ],\n",
              "       [ 7325.0482  ],\n",
              "       [ 8410.04685 ],\n",
              "       [10461.9794  ],\n",
              "       [ 3279.86855 ],\n",
              "       [ 7727.2532  ],\n",
              "       [ 2731.9122  ],\n",
              "       [ 6858.4796  ],\n",
              "       [19521.9682  ],\n",
              "       [47305.305   ],\n",
              "       [ 3987.926   ],\n",
              "       [ 3238.4357  ],\n",
              "       [ 7323.734819],\n",
              "       [ 1704.5681  ],\n",
              "       [ 7445.918   ],\n",
              "       [ 1629.8335  ],\n",
              "       [ 4877.98105 ],\n",
              "       [ 3561.8889  ],\n",
              "       [ 8605.3615  ],\n",
              "       [24520.264   ],\n",
              "       [45710.20785 ],\n",
              "       [15019.76005 ],\n",
              "       [ 6664.68595 ],\n",
              "       [20709.02034 ],\n",
              "       [40932.4295  ],\n",
              "       [ 9500.57305 ],\n",
              "       [40182.246   ],\n",
              "       [ 1137.4697  ],\n",
              "       [38511.6283  ],\n",
              "       [ 4670.64    ],\n",
              "       [13019.16105 ],\n",
              "       [ 4189.1131  ],\n",
              "       [38709.176   ],\n",
              "       [ 5594.8455  ],\n",
              "       [27346.04207 ],\n",
              "       [ 9788.8659  ],\n",
              "       [ 2362.22905 ],\n",
              "       [13224.693   ],\n",
              "       [12222.8983  ],\n",
              "       [ 4320.41085 ],\n",
              "       [12730.9996  ],\n",
              "       [ 2203.47185 ],\n",
              "       [ 6079.6715  ],\n",
              "       [ 3591.48    ],\n",
              "       [ 8596.8278  ],\n",
              "       [21771.3423  ],\n",
              "       [ 2927.0647  ],\n",
              "       [ 1708.0014  ],\n",
              "       [ 2803.69785 ],\n",
              "       [48517.56315 ],\n",
              "       [ 9282.4806  ],\n",
              "       [ 4738.2682  ],\n",
              "       [12269.68865 ],\n",
              "       [11879.10405 ],\n",
              "       [34166.273   ],\n",
              "       [ 6496.886   ],\n",
              "       [ 4751.07    ],\n",
              "       [ 8457.818   ],\n",
              "       [ 1639.5631  ],\n",
              "       [ 2566.4707  ],\n",
              "       [14455.64405 ],\n",
              "       [16577.7795  ],\n",
              "       [13457.9608  ],\n",
              "       [ 2721.3208  ],\n",
              "       [18218.16139 ],\n",
              "       [ 8615.3     ],\n",
              "       [ 9722.7695  ],\n",
              "       [14283.4594  ],\n",
              "       [21472.4788  ],\n",
              "       [ 5972.378   ],\n",
              "       [14711.7438  ],\n",
              "       [ 2128.43105 ],\n",
              "       [ 5438.7491  ],\n",
              "       [ 3935.1799  ],\n",
              "       [ 8534.6718  ],\n",
              "       [11884.04858 ],\n",
              "       [ 6837.3687  ],\n",
              "       [42983.4585  ],\n",
              "       [ 3925.7582  ],\n",
              "       [18903.49141 ],\n",
              "       [ 2117.33885 ],\n",
              "       [ 8283.6807  ],\n",
              "       [ 3366.6697  ],\n",
              "       [11833.7823  ],\n",
              "       [47928.03    ],\n",
              "       [17361.7661  ],\n",
              "       [ 9290.1395  ],\n",
              "       [42560.4304  ],\n",
              "       [13224.05705 ],\n",
              "       [ 4433.9159  ],\n",
              "       [ 9377.9047  ],\n",
              "       [ 3597.596   ],\n",
              "       [29141.3603  ]])"
            ]
          },
          "metadata": {
            "tags": []
          },
          "execution_count": 47
        }
      ]
    },
    {
      "cell_type": "code",
      "metadata": {
        "id": "mbgLe00LiC9b",
        "colab": {
          "base_uri": "https://localhost:8080/",
          "height": 34
        },
        "outputId": "4010216f-6e3b-4a3f-a6a6-2d60a9d6c63e"
      },
      "source": [
        "y_train.shape"
      ],
      "execution_count": null,
      "outputs": [
        {
          "output_type": "execute_result",
          "data": {
            "text/plain": [
              "(1003, 1)"
            ]
          },
          "metadata": {
            "tags": []
          },
          "execution_count": 48
        }
      ]
    },
    {
      "cell_type": "code",
      "metadata": {
        "id": "u4gHZFd6AaGy",
        "colab": {
          "base_uri": "https://localhost:8080/",
          "height": 34
        },
        "outputId": "5c64659a-c79b-463b-8cc8-a327f144f017"
      },
      "source": [
        "y_test.shape"
      ],
      "execution_count": null,
      "outputs": [
        {
          "output_type": "execute_result",
          "data": {
            "text/plain": [
              "(335, 1)"
            ]
          },
          "metadata": {
            "tags": []
          },
          "execution_count": 49
        }
      ]
    },
    {
      "cell_type": "markdown",
      "metadata": {
        "id": "JRW5HPBzR106"
      },
      "source": [
        "- - -\n",
        "## Task 3. IMPLEMENT GRADIENT DESCENT (30 pts)\n",
        "The gradient descent formulation remain the same as one in the lecture. Keep in mind that you will need to add a column $\\textbf{x}_0$ with all 1s as part of the training data. You should write code to implement the **MyLinearRegression** class and its predefined methods. \n",
        "\n",
        "**Gradient Descent:** Notes that you may NOT call the library linear regression which defeats the purpose of this assignment. Make sure your code is well-vectorized."
      ]
    },
    {
      "cell_type": "code",
      "metadata": {
        "id": "XOhAxyK1R107"
      },
      "source": [
        "# NOTE: You may not use the library Linear Regression, but implement your own!\n",
        "# REMEMBER to place self.attribute = 0 with value from your implementation\n",
        "\n",
        "class MyLinearRegression:\n",
        "  \"\"\"\n",
        "  Define what a linear regressor can do\n",
        "  \"\"\"\n",
        "\n",
        "  def __init__ (self, alpha):\n",
        "    \"\"\"\n",
        "    Initialize the regressor\n",
        "    \"\"\"\n",
        "    self.theta = 0; # parameter vector;\n",
        "    self.alpha = alpha; # learning rate\n",
        "    self.iters = 1000\n",
        "    self.cost_array  = np.zeros(self.iters)\n",
        "\n",
        "\n",
        "  def cost(self, theta, X_train, y_train):\n",
        "    # where m = number of examples\n",
        "    # first define m and then create the cost function\n",
        "    m = len(y_train)\n",
        "\n",
        "    # add column of 1's to x0\n",
        "    X_0 = np.c_[np.ones((m,1)), X_train]\n",
        "\n",
        "    s = X_0.dot(self.theta) - y_train\n",
        "    cost = (1/m)*s.T.dot(s)\n",
        "    return cost\n",
        "\n",
        "  def gradientDescent(self, X_train, y_train, theta, alpha, iters):\n",
        "    \"\"\"\n",
        "    Implementatation of the gradient descent\n",
        "    INPUT:\n",
        "    alpha: the learning rate\n",
        "    iters: number of iterations\n",
        "\n",
        "    OUTPUT: \n",
        "    theta: updated value for theta\n",
        "    cost: value of the cost function\n",
        "    \"\"\"\n",
        "    # each Gradient step --> theta = theta - alph\n",
        "    # first define m \n",
        "    m = len(y_train)\n",
        "    cost_array = np.zeros(iters)\n",
        "    self.theta = np.random.randn(10,1)\n",
        "    X_0 = np.c_[np.ones((m,1)), X_train]\n",
        "    for it in range(iters):\n",
        "      grad = 2/m * X_0.T.dot(X_0.dot(self.theta) - y_train)\n",
        "      self.theta = self.theta - self.alpha * grad\n",
        "      self.cost_array[it] = cost(self.theta, X_train, y_train)\n",
        "\n",
        "  def fitUsingNormalEquation(self, X_train, y_train):\n",
        "    \"\"\"\n",
        "    Training using the Normal (close form) equation\n",
        "    \"\"\"\n",
        "    # implementation code here for Task 4.\n",
        "    m = len(y_train)\n",
        "    X_0 = np.c_[np.ones((m,1)), X_train]\n",
        "    self.theta = np.linalg.inv(X_0.T.dot(X_0)).dot(X_0.T).dot(y_train);\n",
        "\n",
        "  def predict(self, X_test):\n",
        "    \"\"\"\n",
        "    Predicting the label\n",
        "    \"\"\"\n",
        "    test_size = len(X_test)\n",
        "    X_0 = np.c_[np.ones((test_size,1)), X_test]\n",
        "    y_predict = np.dot(X_0, self.theta)\n",
        "    # implementation code here \n",
        "    return y_predict\n",
        "\n",
        "  def __str__(self):\n",
        "    \"\"\"\n",
        "    Print out the parameter out when call print()\n",
        "    \"\"\"\n",
        "    # implement here to return(\"Parameter vector is %f\" % self.theta)   }\n",
        "    return 'Parameter vector is {}'.format(self.theta)\n",
        "# Your code goes here to call the instance of class MyLinearRegression\n",
        "myGradientDescentModel = MyLinearRegression(0.1)   "
      ],
      "execution_count": null,
      "outputs": []
    },
    {
      "cell_type": "code",
      "metadata": {
        "id": "Cq0Go7Us8X61"
      },
      "source": [
        "myGradientDescentModel.gradientDescent(X_train, y_train,myGradientDescentModel.theta,0.1,1000)    "
      ],
      "execution_count": null,
      "outputs": []
    },
    {
      "cell_type": "code",
      "metadata": {
        "id": "--LPSPJyQca9"
      },
      "source": [
        "predict = myGradientDescentModel.predict(X_test)"
      ],
      "execution_count": null,
      "outputs": []
    },
    {
      "cell_type": "code",
      "metadata": {
        "id": "REf9mVeLQlwQ",
        "colab": {
          "base_uri": "https://localhost:8080/",
          "height": 1000
        },
        "outputId": "9f4372df-aaba-4770-de01-6e52573280cc"
      },
      "source": [
        "predict"
      ],
      "execution_count": null,
      "outputs": [
        {
          "output_type": "execute_result",
          "data": {
            "text/plain": [
              "array([[11121.10140924],\n",
              "       [ 9369.08345223],\n",
              "       [38349.2588068 ],\n",
              "       [16331.93500645],\n",
              "       [ 7041.22770615],\n",
              "       [ 4103.24923177],\n",
              "       [ 1734.03805961],\n",
              "       [14478.86491464],\n",
              "       [ 9168.77981235],\n",
              "       [ 7715.94671029],\n",
              "       [ 4625.04765547],\n",
              "       [10398.53755318],\n",
              "       [ 8756.48015868],\n",
              "       [ 3738.25833927],\n",
              "       [28190.41129687],\n",
              "       [10600.67828764],\n",
              "       [11395.63055992],\n",
              "       [ 6248.83935385],\n",
              "       [ 8423.19721152],\n",
              "       [27360.73273479],\n",
              "       [33843.62542848],\n",
              "       [14432.50562897],\n",
              "       [11759.04359894],\n",
              "       [32070.2132407 ],\n",
              "       [ 4152.83526684],\n",
              "       [ 9364.57488075],\n",
              "       [ 1227.5561631 ],\n",
              "       [ 9712.31328139],\n",
              "       [ 3714.56843696],\n",
              "       [10585.88359557],\n",
              "       [ 9162.47300707],\n",
              "       [39963.69536536],\n",
              "       [15580.1455371 ],\n",
              "       [13795.75096539],\n",
              "       [24960.11670118],\n",
              "       [ 5274.13784945],\n",
              "       [12507.41956494],\n",
              "       [30840.51073591],\n",
              "       [33738.39701967],\n",
              "       [ 3693.97640602],\n",
              "       [ 4083.679354  ],\n",
              "       [ 3960.78010537],\n",
              "       [30688.77955811],\n",
              "       [39647.57881672],\n",
              "       [27822.13821979],\n",
              "       [ 5297.22284982],\n",
              "       [10490.69035982],\n",
              "       [ 8000.03303241],\n",
              "       [ 3721.57055488],\n",
              "       [10074.13524545],\n",
              "       [ 5834.48592072],\n",
              "       [ 3655.97278651],\n",
              "       [33043.86058963],\n",
              "       [38550.26073255],\n",
              "       [15858.08435828],\n",
              "       [ 7288.48878169],\n",
              "       [ 5703.38341826],\n",
              "       [ 9590.69948854],\n",
              "       [ 8867.40056079],\n",
              "       [11837.84431982],\n",
              "       [ 1923.92229602],\n",
              "       [39063.95684316],\n",
              "       [14765.28155823],\n",
              "       [11762.93408998],\n",
              "       [14123.71276572],\n",
              "       [13957.34599256],\n",
              "       [25885.79486405],\n",
              "       [32480.77895206],\n",
              "       [  814.28218471],\n",
              "       [10346.2032403 ],\n",
              "       [12250.40022773],\n",
              "       [11407.25345172],\n",
              "       [25364.07951761],\n",
              "       [15422.36343888],\n",
              "       [11287.37791341],\n",
              "       [12652.04892671],\n",
              "       [ 6544.93054826],\n",
              "       [ 9514.05561162],\n",
              "       [30332.45726728],\n",
              "       [39062.2012877 ],\n",
              "       [12063.06190179],\n",
              "       [37192.26604341],\n",
              "       [ 4486.23138255],\n",
              "       [ 9370.03651263],\n",
              "       [34981.28905104],\n",
              "       [28872.68538793],\n",
              "       [ 8670.10336815],\n",
              "       [ 5138.54479015],\n",
              "       [11972.26507827],\n",
              "       [30531.97480614],\n",
              "       [10172.41294539],\n",
              "       [11329.35500831],\n",
              "       [ 8487.88718807],\n",
              "       [ 8797.71595949],\n",
              "       [ 8536.09601948],\n",
              "       [ 7419.85713648],\n",
              "       [36116.05721784],\n",
              "       [33218.71868929],\n",
              "       [ 7830.40732204],\n",
              "       [15045.79334634],\n",
              "       [ 3999.69832627],\n",
              "       [ 9000.51237981],\n",
              "       [ 6268.27398444],\n",
              "       [31531.56146053],\n",
              "       [33206.00811521],\n",
              "       [ 2177.45152033],\n",
              "       [ 8979.79247894],\n",
              "       [ 6860.45043613],\n",
              "       [14603.07347626],\n",
              "       [37203.29677137],\n",
              "       [10258.20025839],\n",
              "       [10521.43085883],\n",
              "       [10342.58889465],\n",
              "       [27208.72358336],\n",
              "       [39793.35489263],\n",
              "       [ 8572.05334331],\n",
              "       [  383.19995261],\n",
              "       [ 8978.71508972],\n",
              "       [15171.91388745],\n",
              "       [ 9695.08991651],\n",
              "       [35122.54463332],\n",
              "       [ 7386.36940826],\n",
              "       [16833.76924798],\n",
              "       [ 9780.36133572],\n",
              "       [ 8206.72008448],\n",
              "       [ 3150.56180887],\n",
              "       [33023.9576962 ],\n",
              "       [31709.44883314],\n",
              "       [39569.70370315],\n",
              "       [ 5819.2388215 ],\n",
              "       [ 9207.49139829],\n",
              "       [ 3594.44051439],\n",
              "       [ 7557.66601071],\n",
              "       [ 8704.130514  ],\n",
              "       [31767.32756312],\n",
              "       [30032.74793918],\n",
              "       [29769.4990372 ],\n",
              "       [ 8618.63353832],\n",
              "       [32363.52085189],\n",
              "       [ 3595.4377035 ],\n",
              "       [ 3909.33767121],\n",
              "       [11253.08161641],\n",
              "       [13037.90009357],\n",
              "       [12905.87475441],\n",
              "       [ 5650.52090296],\n",
              "       [15379.21442612],\n",
              "       [14753.98075861],\n",
              "       [ 2631.20797192],\n",
              "       [  284.48714214],\n",
              "       [10910.02278107],\n",
              "       [ 7495.92629467],\n",
              "       [31846.57729011],\n",
              "       [12439.31617335],\n",
              "       [ 2347.91066581],\n",
              "       [ 6666.11780163],\n",
              "       [ 7764.66912604],\n",
              "       [ 4675.13961172],\n",
              "       [ 2127.93481018],\n",
              "       [11474.0151399 ],\n",
              "       [12655.01342743],\n",
              "       [ 7415.08219308],\n",
              "       [16212.02837622],\n",
              "       [11888.97854889],\n",
              "       [14037.26841524],\n",
              "       [ 3304.71318104],\n",
              "       [ 7455.13467347],\n",
              "       [23234.20251169],\n",
              "       [ 7705.83742345],\n",
              "       [ 5631.47170518],\n",
              "       [ 5155.40902529],\n",
              "       [ 6969.71464754],\n",
              "       [ 5354.89227216],\n",
              "       [10135.64264959],\n",
              "       [ 5349.72973251],\n",
              "       [ 5785.05540196],\n",
              "       [ 6635.4840481 ],\n",
              "       [ 3866.72227914],\n",
              "       [ 5761.40665512],\n",
              "       [38158.33828783],\n",
              "       [ 1683.97474941],\n",
              "       [12735.30690712],\n",
              "       [ 9153.53309613],\n",
              "       [13874.81969242],\n",
              "       [ 5366.93326467],\n",
              "       [ 5335.97185632],\n",
              "       [36537.26807814],\n",
              "       [ 4552.71155087],\n",
              "       [ 2086.59471242],\n",
              "       [15264.3264118 ],\n",
              "       [12716.25770934],\n",
              "       [35245.2548735 ],\n",
              "       [ 4741.41573532],\n",
              "       [ 5672.22825825],\n",
              "       [31197.08652051],\n",
              "       [ 6408.22584642],\n",
              "       [ 2208.12235869],\n",
              "       [ 8556.15716517],\n",
              "       [10137.59635141],\n",
              "       [ 7961.53224662],\n",
              "       [ 6008.27621562],\n",
              "       [13176.50948513],\n",
              "       [38352.50783395],\n",
              "       [13834.05839613],\n",
              "       [28975.77875494],\n",
              "       [ 6995.0710336 ],\n",
              "       [35445.43840901],\n",
              "       [ 3939.50886974],\n",
              "       [11767.38703727],\n",
              "       [ 8972.56758879],\n",
              "       [ 6231.88873332],\n",
              "       [11495.7268554 ],\n",
              "       [14545.53360188],\n",
              "       [ 5369.0676865 ],\n",
              "       [ 4477.76246538],\n",
              "       [ 7902.81254894],\n",
              "       [ 1408.21015639],\n",
              "       [ 7988.3022048 ],\n",
              "       [ 4535.35332182],\n",
              "       [12742.05951261],\n",
              "       [ 4363.35283569],\n",
              "       [10089.24220844],\n",
              "       [ 7300.65190624],\n",
              "       [ 9231.73028826],\n",
              "       [ 2535.207216  ],\n",
              "       [13133.09792315],\n",
              "       [16924.07543401],\n",
              "       [14775.7019177 ],\n",
              "       [10500.0535906 ],\n",
              "       [ 5265.70669635],\n",
              "       [ 2226.91874092],\n",
              "       [ 1942.35954852],\n",
              "       [13563.29488347],\n",
              "       [13871.81528745],\n",
              "       [ 5181.04224028],\n",
              "       [ 3710.34411545],\n",
              "       [ 9478.23526209],\n",
              "       [10029.11076688],\n",
              "       [28487.9940125 ],\n",
              "       [ 7762.49489788],\n",
              "       [10518.88389627],\n",
              "       [ 6296.92323115],\n",
              "       [30140.72703053],\n",
              "       [11098.12626929],\n",
              "       [ 7576.21977436],\n",
              "       [10401.14033393],\n",
              "       [12366.52919975],\n",
              "       [ 3192.20588811],\n",
              "       [10991.61973466],\n",
              "       [ 1689.76125771],\n",
              "       [ 7151.43405448],\n",
              "       [28443.15403614],\n",
              "       [38624.93955237],\n",
              "       [ 6379.28377021],\n",
              "       [ 8118.60317651],\n",
              "       [ 2683.93379983],\n",
              "       [  639.08943517],\n",
              "       [10536.57514098],\n",
              "       [ 4165.51767495],\n",
              "       [ 5200.74089999],\n",
              "       [ 2312.93290459],\n",
              "       [ 6760.13309472],\n",
              "       [33397.58307294],\n",
              "       [38310.40679323],\n",
              "       [14825.20670057],\n",
              "       [ 8446.47111382],\n",
              "       [16157.7232546 ],\n",
              "       [32883.85788865],\n",
              "       [ 9571.59093679],\n",
              "       [33651.93864121],\n",
              "       [ 3372.20261012],\n",
              "       [30977.13462084],\n",
              "       [ 8226.75636218],\n",
              "       [14208.78118882],\n",
              "       [ 4334.71349904],\n",
              "       [32230.41371867],\n",
              "       [ 8490.09883679],\n",
              "       [11100.97310023],\n",
              "       [ 8964.41574831],\n",
              "       [ 4523.1304603 ],\n",
              "       [12609.11023502],\n",
              "       [11831.95897148],\n",
              "       [ 8722.92138189],\n",
              "       [13361.90220869],\n",
              "       [ 3000.56571324],\n",
              "       [10770.49807526],\n",
              "       [ 5584.3590919 ],\n",
              "       [10786.54038437],\n",
              "       [31738.38046179],\n",
              "       [ 9848.52408129],\n",
              "       [ 1462.33241003],\n",
              "       [  788.95636585],\n",
              "       [39945.71215423],\n",
              "       [ 9785.914906  ],\n",
              "       [ 7356.53037079],\n",
              "       [14087.36392686],\n",
              "       [13458.32480455],\n",
              "       [27467.78950831],\n",
              "       [ 7172.78189703],\n",
              "       [ 6968.50425704],\n",
              "       [12178.3638989 ],\n",
              "       [ 3229.16393683],\n",
              "       [ 3657.05510794],\n",
              "       [25236.63678023],\n",
              "       [26040.61668601],\n",
              "       [12862.46482666],\n",
              "       [ 3466.70283736],\n",
              "       [ 4818.96534204],\n",
              "       [ 9354.56280485],\n",
              "       [12563.88645494],\n",
              "       [23839.16222875],\n",
              "       [31083.37421155],\n",
              "       [10139.05715622],\n",
              "       [24399.63908197],\n",
              "       [ 3184.23767301],\n",
              "       [11295.28383998],\n",
              "       [ 7301.31137431],\n",
              "       [ 8323.52275598],\n",
              "       [   40.42623033],\n",
              "       [ 7906.11476025],\n",
              "       [35912.68544936],\n",
              "       [ 6373.77173841],\n",
              "       [ 6454.06521811],\n",
              "       [  524.52960038],\n",
              "       [10496.8769542 ],\n",
              "       [ 6477.23937265],\n",
              "       [ 9478.78454498],\n",
              "       [38966.15272209],\n",
              "       [27988.83010317],\n",
              "       [11622.38000377],\n",
              "       [35376.92108292],\n",
              "       [15034.10664745],\n",
              "       [ 7121.72379896],\n",
              "       [10602.9308927 ],\n",
              "       [ 7050.86479611],\n",
              "       [36872.2997274 ]])"
            ]
          },
          "metadata": {
            "tags": []
          },
          "execution_count": 54
        }
      ]
    },
    {
      "cell_type": "code",
      "metadata": {
        "id": "L9SeP0zOUzmF",
        "colab": {
          "base_uri": "https://localhost:8080/",
          "height": 187
        },
        "outputId": "bf53f131-5bdf-4d45-cd75-8bb6b291ee1e"
      },
      "source": [
        "print(myGradientDescentModel)"
      ],
      "execution_count": null,
      "outputs": [
        {
          "output_type": "stream",
          "text": [
            "Parameter vector is [[1.06309131e+04]\n",
            " [3.51331385e+03]\n",
            " [2.03174621e+03]\n",
            " [5.32886230e+02]\n",
            " [9.54646722e+03]\n",
            " [6.63117321e+00]\n",
            " [3.19278254e+03]\n",
            " [2.99964961e+03]\n",
            " [2.11298089e+03]\n",
            " [2.32433883e+03]]\n"
          ],
          "name": "stdout"
        }
      ]
    },
    {
      "cell_type": "code",
      "metadata": {
        "id": "fsKpcFQJwsM8",
        "colab": {
          "base_uri": "https://localhost:8080/",
          "height": 1000
        },
        "outputId": "8952b514-f321-445a-f6ad-d8dcc73f01de"
      },
      "source": [
        "myGradientDescentModel.cost_array"
      ],
      "execution_count": null,
      "outputs": [
        {
          "output_type": "execute_result",
          "data": {
            "text/plain": [
              "array([2.04204222e+08, 1.37413466e+08, 9.78683839e+07, 7.43272702e+07,\n",
              "       6.02312780e+07, 5.17377815e+07, 4.65854067e+07, 4.34369499e+07,\n",
              "       4.14976500e+07, 4.02925909e+07, 3.95363715e+07, 3.90564629e+07,\n",
              "       3.87479269e+07, 3.85465300e+07, 3.84126970e+07, 3.83218797e+07,\n",
              "       3.82587450e+07, 3.82136461e+07, 3.81804670e+07, 3.81552986e+07,\n",
              "       3.81356201e+07, 3.81197893e+07, 3.81067246e+07, 3.80957037e+07,\n",
              "       3.80862373e+07, 3.80779872e+07, 3.80707155e+07, 3.80642502e+07,\n",
              "       3.80584642e+07, 3.80532606e+07, 3.80485637e+07, 3.80443127e+07,\n",
              "       3.80404578e+07, 3.80369568e+07, 3.80337740e+07, 3.80308780e+07,\n",
              "       3.80282416e+07, 3.80258405e+07, 3.80236529e+07, 3.80216594e+07,\n",
              "       3.80198425e+07, 3.80181863e+07, 3.80166765e+07, 3.80153000e+07,\n",
              "       3.80140450e+07, 3.80129008e+07, 3.80118575e+07, 3.80109062e+07,\n",
              "       3.80100387e+07, 3.80092477e+07, 3.80085265e+07, 3.80078688e+07,\n",
              "       3.80072690e+07, 3.80067221e+07, 3.80062234e+07, 3.80057687e+07,\n",
              "       3.80053540e+07, 3.80049758e+07, 3.80046310e+07, 3.80043165e+07,\n",
              "       3.80040298e+07, 3.80037683e+07, 3.80035298e+07, 3.80033123e+07,\n",
              "       3.80031140e+07, 3.80029332e+07, 3.80027683e+07, 3.80026179e+07,\n",
              "       3.80024807e+07, 3.80023556e+07, 3.80022416e+07, 3.80021376e+07,\n",
              "       3.80020427e+07, 3.80019562e+07, 3.80018773e+07, 3.80018054e+07,\n",
              "       3.80017398e+07, 3.80016800e+07, 3.80016254e+07, 3.80015756e+07,\n",
              "       3.80015303e+07, 3.80014889e+07, 3.80014511e+07, 3.80014167e+07,\n",
              "       3.80013853e+07, 3.80013567e+07, 3.80013306e+07, 3.80013068e+07,\n",
              "       3.80012851e+07, 3.80012653e+07, 3.80012472e+07, 3.80012308e+07,\n",
              "       3.80012157e+07, 3.80012020e+07, 3.80011895e+07, 3.80011782e+07,\n",
              "       3.80011678e+07, 3.80011583e+07, 3.80011496e+07, 3.80011418e+07,\n",
              "       3.80011346e+07, 3.80011280e+07, 3.80011220e+07, 3.80011166e+07,\n",
              "       3.80011116e+07, 3.80011071e+07, 3.80011029e+07, 3.80010992e+07,\n",
              "       3.80010957e+07, 3.80010926e+07, 3.80010897e+07, 3.80010871e+07,\n",
              "       3.80010847e+07, 3.80010826e+07, 3.80010806e+07, 3.80010788e+07,\n",
              "       3.80010771e+07, 3.80010756e+07, 3.80010743e+07, 3.80010730e+07,\n",
              "       3.80010719e+07, 3.80010708e+07, 3.80010699e+07, 3.80010690e+07,\n",
              "       3.80010682e+07, 3.80010675e+07, 3.80010669e+07, 3.80010663e+07,\n",
              "       3.80010657e+07, 3.80010652e+07, 3.80010648e+07, 3.80010643e+07,\n",
              "       3.80010640e+07, 3.80010636e+07, 3.80010633e+07, 3.80010630e+07,\n",
              "       3.80010628e+07, 3.80010625e+07, 3.80010623e+07, 3.80010621e+07,\n",
              "       3.80010619e+07, 3.80010618e+07, 3.80010616e+07, 3.80010615e+07,\n",
              "       3.80010614e+07, 3.80010612e+07, 3.80010611e+07, 3.80010610e+07,\n",
              "       3.80010610e+07, 3.80010609e+07, 3.80010608e+07, 3.80010607e+07,\n",
              "       3.80010607e+07, 3.80010606e+07, 3.80010606e+07, 3.80010605e+07,\n",
              "       3.80010605e+07, 3.80010604e+07, 3.80010604e+07, 3.80010604e+07,\n",
              "       3.80010604e+07, 3.80010603e+07, 3.80010603e+07, 3.80010603e+07,\n",
              "       3.80010603e+07, 3.80010602e+07, 3.80010602e+07, 3.80010602e+07,\n",
              "       3.80010602e+07, 3.80010602e+07, 3.80010602e+07, 3.80010602e+07,\n",
              "       3.80010602e+07, 3.80010601e+07, 3.80010601e+07, 3.80010601e+07,\n",
              "       3.80010601e+07, 3.80010601e+07, 3.80010601e+07, 3.80010601e+07,\n",
              "       3.80010601e+07, 3.80010601e+07, 3.80010601e+07, 3.80010601e+07,\n",
              "       3.80010601e+07, 3.80010601e+07, 3.80010601e+07, 3.80010601e+07,\n",
              "       3.80010601e+07, 3.80010601e+07, 3.80010601e+07, 3.80010601e+07,\n",
              "       3.80010601e+07, 3.80010601e+07, 3.80010601e+07, 3.80010601e+07,\n",
              "       3.80010601e+07, 3.80010601e+07, 3.80010601e+07, 3.80010601e+07,\n",
              "       3.80010601e+07, 3.80010601e+07, 3.80010601e+07, 3.80010601e+07,\n",
              "       3.80010601e+07, 3.80010601e+07, 3.80010601e+07, 3.80010601e+07,\n",
              "       3.80010601e+07, 3.80010601e+07, 3.80010601e+07, 3.80010601e+07,\n",
              "       3.80010601e+07, 3.80010601e+07, 3.80010601e+07, 3.80010601e+07,\n",
              "       3.80010601e+07, 3.80010601e+07, 3.80010601e+07, 3.80010601e+07,\n",
              "       3.80010601e+07, 3.80010601e+07, 3.80010601e+07, 3.80010601e+07,\n",
              "       3.80010601e+07, 3.80010601e+07, 3.80010601e+07, 3.80010601e+07,\n",
              "       3.80010601e+07, 3.80010601e+07, 3.80010601e+07, 3.80010601e+07,\n",
              "       3.80010601e+07, 3.80010601e+07, 3.80010601e+07, 3.80010601e+07,\n",
              "       3.80010601e+07, 3.80010601e+07, 3.80010601e+07, 3.80010601e+07,\n",
              "       3.80010601e+07, 3.80010601e+07, 3.80010601e+07, 3.80010601e+07,\n",
              "       3.80010601e+07, 3.80010601e+07, 3.80010601e+07, 3.80010601e+07,\n",
              "       3.80010601e+07, 3.80010601e+07, 3.80010601e+07, 3.80010601e+07,\n",
              "       3.80010601e+07, 3.80010601e+07, 3.80010601e+07, 3.80010601e+07,\n",
              "       3.80010601e+07, 3.80010601e+07, 3.80010601e+07, 3.80010601e+07,\n",
              "       3.80010601e+07, 3.80010601e+07, 3.80010601e+07, 3.80010601e+07,\n",
              "       3.80010601e+07, 3.80010601e+07, 3.80010601e+07, 3.80010601e+07,\n",
              "       3.80010601e+07, 3.80010601e+07, 3.80010601e+07, 3.80010601e+07,\n",
              "       3.80010601e+07, 3.80010601e+07, 3.80010601e+07, 3.80010601e+07,\n",
              "       3.80010601e+07, 3.80010601e+07, 3.80010601e+07, 3.80010601e+07,\n",
              "       3.80010601e+07, 3.80010601e+07, 3.80010601e+07, 3.80010601e+07,\n",
              "       3.80010601e+07, 3.80010601e+07, 3.80010601e+07, 3.80010601e+07,\n",
              "       3.80010601e+07, 3.80010601e+07, 3.80010601e+07, 3.80010601e+07,\n",
              "       3.80010601e+07, 3.80010601e+07, 3.80010601e+07, 3.80010601e+07,\n",
              "       3.80010601e+07, 3.80010601e+07, 3.80010601e+07, 3.80010601e+07,\n",
              "       3.80010601e+07, 3.80010601e+07, 3.80010601e+07, 3.80010601e+07,\n",
              "       3.80010601e+07, 3.80010601e+07, 3.80010601e+07, 3.80010601e+07,\n",
              "       3.80010601e+07, 3.80010601e+07, 3.80010601e+07, 3.80010601e+07,\n",
              "       3.80010601e+07, 3.80010601e+07, 3.80010601e+07, 3.80010601e+07,\n",
              "       3.80010601e+07, 3.80010601e+07, 3.80010601e+07, 3.80010601e+07,\n",
              "       3.80010601e+07, 3.80010601e+07, 3.80010601e+07, 3.80010601e+07,\n",
              "       3.80010601e+07, 3.80010601e+07, 3.80010601e+07, 3.80010601e+07,\n",
              "       3.80010601e+07, 3.80010601e+07, 3.80010601e+07, 3.80010601e+07,\n",
              "       3.80010601e+07, 3.80010601e+07, 3.80010601e+07, 3.80010601e+07,\n",
              "       3.80010601e+07, 3.80010601e+07, 3.80010601e+07, 3.80010601e+07,\n",
              "       3.80010601e+07, 3.80010601e+07, 3.80010601e+07, 3.80010601e+07,\n",
              "       3.80010601e+07, 3.80010601e+07, 3.80010601e+07, 3.80010601e+07,\n",
              "       3.80010601e+07, 3.80010601e+07, 3.80010601e+07, 3.80010601e+07,\n",
              "       3.80010601e+07, 3.80010601e+07, 3.80010601e+07, 3.80010601e+07,\n",
              "       3.80010601e+07, 3.80010601e+07, 3.80010601e+07, 3.80010601e+07,\n",
              "       3.80010601e+07, 3.80010601e+07, 3.80010601e+07, 3.80010601e+07,\n",
              "       3.80010601e+07, 3.80010601e+07, 3.80010601e+07, 3.80010601e+07,\n",
              "       3.80010601e+07, 3.80010601e+07, 3.80010601e+07, 3.80010601e+07,\n",
              "       3.80010601e+07, 3.80010601e+07, 3.80010601e+07, 3.80010601e+07,\n",
              "       3.80010601e+07, 3.80010601e+07, 3.80010601e+07, 3.80010601e+07,\n",
              "       3.80010601e+07, 3.80010601e+07, 3.80010601e+07, 3.80010601e+07,\n",
              "       3.80010601e+07, 3.80010601e+07, 3.80010601e+07, 3.80010601e+07,\n",
              "       3.80010601e+07, 3.80010601e+07, 3.80010601e+07, 3.80010601e+07,\n",
              "       3.80010601e+07, 3.80010601e+07, 3.80010601e+07, 3.80010601e+07,\n",
              "       3.80010601e+07, 3.80010601e+07, 3.80010601e+07, 3.80010601e+07,\n",
              "       3.80010601e+07, 3.80010601e+07, 3.80010601e+07, 3.80010601e+07,\n",
              "       3.80010601e+07, 3.80010601e+07, 3.80010601e+07, 3.80010601e+07,\n",
              "       3.80010601e+07, 3.80010601e+07, 3.80010601e+07, 3.80010601e+07,\n",
              "       3.80010601e+07, 3.80010601e+07, 3.80010601e+07, 3.80010601e+07,\n",
              "       3.80010601e+07, 3.80010601e+07, 3.80010601e+07, 3.80010601e+07,\n",
              "       3.80010601e+07, 3.80010601e+07, 3.80010601e+07, 3.80010601e+07,\n",
              "       3.80010601e+07, 3.80010601e+07, 3.80010601e+07, 3.80010601e+07,\n",
              "       3.80010601e+07, 3.80010601e+07, 3.80010601e+07, 3.80010601e+07,\n",
              "       3.80010601e+07, 3.80010601e+07, 3.80010601e+07, 3.80010601e+07,\n",
              "       3.80010601e+07, 3.80010601e+07, 3.80010601e+07, 3.80010601e+07,\n",
              "       3.80010601e+07, 3.80010601e+07, 3.80010601e+07, 3.80010601e+07,\n",
              "       3.80010601e+07, 3.80010601e+07, 3.80010601e+07, 3.80010601e+07,\n",
              "       3.80010601e+07, 3.80010601e+07, 3.80010601e+07, 3.80010601e+07,\n",
              "       3.80010601e+07, 3.80010601e+07, 3.80010601e+07, 3.80010601e+07,\n",
              "       3.80010601e+07, 3.80010601e+07, 3.80010601e+07, 3.80010601e+07,\n",
              "       3.80010601e+07, 3.80010601e+07, 3.80010601e+07, 3.80010601e+07,\n",
              "       3.80010601e+07, 3.80010601e+07, 3.80010601e+07, 3.80010601e+07,\n",
              "       3.80010601e+07, 3.80010601e+07, 3.80010601e+07, 3.80010601e+07,\n",
              "       3.80010601e+07, 3.80010601e+07, 3.80010601e+07, 3.80010601e+07,\n",
              "       3.80010601e+07, 3.80010601e+07, 3.80010601e+07, 3.80010601e+07,\n",
              "       3.80010601e+07, 3.80010601e+07, 3.80010601e+07, 3.80010601e+07,\n",
              "       3.80010601e+07, 3.80010601e+07, 3.80010601e+07, 3.80010601e+07,\n",
              "       3.80010601e+07, 3.80010601e+07, 3.80010601e+07, 3.80010601e+07,\n",
              "       3.80010601e+07, 3.80010601e+07, 3.80010601e+07, 3.80010601e+07,\n",
              "       3.80010601e+07, 3.80010601e+07, 3.80010601e+07, 3.80010601e+07,\n",
              "       3.80010601e+07, 3.80010601e+07, 3.80010601e+07, 3.80010601e+07,\n",
              "       3.80010601e+07, 3.80010601e+07, 3.80010601e+07, 3.80010601e+07,\n",
              "       3.80010601e+07, 3.80010601e+07, 3.80010601e+07, 3.80010601e+07,\n",
              "       3.80010601e+07, 3.80010601e+07, 3.80010601e+07, 3.80010601e+07,\n",
              "       3.80010601e+07, 3.80010601e+07, 3.80010601e+07, 3.80010601e+07,\n",
              "       3.80010601e+07, 3.80010601e+07, 3.80010601e+07, 3.80010601e+07,\n",
              "       3.80010601e+07, 3.80010601e+07, 3.80010601e+07, 3.80010601e+07,\n",
              "       3.80010601e+07, 3.80010601e+07, 3.80010601e+07, 3.80010601e+07,\n",
              "       3.80010601e+07, 3.80010601e+07, 3.80010601e+07, 3.80010601e+07,\n",
              "       3.80010601e+07, 3.80010601e+07, 3.80010601e+07, 3.80010601e+07,\n",
              "       3.80010601e+07, 3.80010601e+07, 3.80010601e+07, 3.80010601e+07,\n",
              "       3.80010601e+07, 3.80010601e+07, 3.80010601e+07, 3.80010601e+07,\n",
              "       3.80010601e+07, 3.80010601e+07, 3.80010601e+07, 3.80010601e+07,\n",
              "       3.80010601e+07, 3.80010601e+07, 3.80010601e+07, 3.80010601e+07,\n",
              "       3.80010601e+07, 3.80010601e+07, 3.80010601e+07, 3.80010601e+07,\n",
              "       3.80010601e+07, 3.80010601e+07, 3.80010601e+07, 3.80010601e+07,\n",
              "       3.80010601e+07, 3.80010601e+07, 3.80010601e+07, 3.80010601e+07,\n",
              "       3.80010601e+07, 3.80010601e+07, 3.80010601e+07, 3.80010601e+07,\n",
              "       3.80010601e+07, 3.80010601e+07, 3.80010601e+07, 3.80010601e+07,\n",
              "       3.80010601e+07, 3.80010601e+07, 3.80010601e+07, 3.80010601e+07,\n",
              "       3.80010601e+07, 3.80010601e+07, 3.80010601e+07, 3.80010601e+07,\n",
              "       3.80010601e+07, 3.80010601e+07, 3.80010601e+07, 3.80010601e+07,\n",
              "       3.80010601e+07, 3.80010601e+07, 3.80010601e+07, 3.80010601e+07,\n",
              "       3.80010601e+07, 3.80010601e+07, 3.80010601e+07, 3.80010601e+07,\n",
              "       3.80010601e+07, 3.80010601e+07, 3.80010601e+07, 3.80010601e+07,\n",
              "       3.80010601e+07, 3.80010601e+07, 3.80010601e+07, 3.80010601e+07,\n",
              "       3.80010601e+07, 3.80010601e+07, 3.80010601e+07, 3.80010601e+07,\n",
              "       3.80010601e+07, 3.80010601e+07, 3.80010601e+07, 3.80010601e+07,\n",
              "       3.80010601e+07, 3.80010601e+07, 3.80010601e+07, 3.80010601e+07,\n",
              "       3.80010601e+07, 3.80010601e+07, 3.80010601e+07, 3.80010601e+07,\n",
              "       3.80010601e+07, 3.80010601e+07, 3.80010601e+07, 3.80010601e+07,\n",
              "       3.80010601e+07, 3.80010601e+07, 3.80010601e+07, 3.80010601e+07,\n",
              "       3.80010601e+07, 3.80010601e+07, 3.80010601e+07, 3.80010601e+07,\n",
              "       3.80010601e+07, 3.80010601e+07, 3.80010601e+07, 3.80010601e+07,\n",
              "       3.80010601e+07, 3.80010601e+07, 3.80010601e+07, 3.80010601e+07,\n",
              "       3.80010601e+07, 3.80010601e+07, 3.80010601e+07, 3.80010601e+07,\n",
              "       3.80010601e+07, 3.80010601e+07, 3.80010601e+07, 3.80010601e+07,\n",
              "       3.80010601e+07, 3.80010601e+07, 3.80010601e+07, 3.80010601e+07,\n",
              "       3.80010601e+07, 3.80010601e+07, 3.80010601e+07, 3.80010601e+07,\n",
              "       3.80010601e+07, 3.80010601e+07, 3.80010601e+07, 3.80010601e+07,\n",
              "       3.80010601e+07, 3.80010601e+07, 3.80010601e+07, 3.80010601e+07,\n",
              "       3.80010601e+07, 3.80010601e+07, 3.80010601e+07, 3.80010601e+07,\n",
              "       3.80010601e+07, 3.80010601e+07, 3.80010601e+07, 3.80010601e+07,\n",
              "       3.80010601e+07, 3.80010601e+07, 3.80010601e+07, 3.80010601e+07,\n",
              "       3.80010601e+07, 3.80010601e+07, 3.80010601e+07, 3.80010601e+07,\n",
              "       3.80010601e+07, 3.80010601e+07, 3.80010601e+07, 3.80010601e+07,\n",
              "       3.80010601e+07, 3.80010601e+07, 3.80010601e+07, 3.80010601e+07,\n",
              "       3.80010601e+07, 3.80010601e+07, 3.80010601e+07, 3.80010601e+07,\n",
              "       3.80010601e+07, 3.80010601e+07, 3.80010601e+07, 3.80010601e+07,\n",
              "       3.80010601e+07, 3.80010601e+07, 3.80010601e+07, 3.80010601e+07,\n",
              "       3.80010601e+07, 3.80010601e+07, 3.80010601e+07, 3.80010601e+07,\n",
              "       3.80010601e+07, 3.80010601e+07, 3.80010601e+07, 3.80010601e+07,\n",
              "       3.80010601e+07, 3.80010601e+07, 3.80010601e+07, 3.80010601e+07,\n",
              "       3.80010601e+07, 3.80010601e+07, 3.80010601e+07, 3.80010601e+07,\n",
              "       3.80010601e+07, 3.80010601e+07, 3.80010601e+07, 3.80010601e+07,\n",
              "       3.80010601e+07, 3.80010601e+07, 3.80010601e+07, 3.80010601e+07,\n",
              "       3.80010601e+07, 3.80010601e+07, 3.80010601e+07, 3.80010601e+07,\n",
              "       3.80010601e+07, 3.80010601e+07, 3.80010601e+07, 3.80010601e+07,\n",
              "       3.80010601e+07, 3.80010601e+07, 3.80010601e+07, 3.80010601e+07,\n",
              "       3.80010601e+07, 3.80010601e+07, 3.80010601e+07, 3.80010601e+07,\n",
              "       3.80010601e+07, 3.80010601e+07, 3.80010601e+07, 3.80010601e+07,\n",
              "       3.80010601e+07, 3.80010601e+07, 3.80010601e+07, 3.80010601e+07,\n",
              "       3.80010601e+07, 3.80010601e+07, 3.80010601e+07, 3.80010601e+07,\n",
              "       3.80010601e+07, 3.80010601e+07, 3.80010601e+07, 3.80010601e+07,\n",
              "       3.80010601e+07, 3.80010601e+07, 3.80010601e+07, 3.80010601e+07,\n",
              "       3.80010601e+07, 3.80010601e+07, 3.80010601e+07, 3.80010601e+07,\n",
              "       3.80010601e+07, 3.80010601e+07, 3.80010601e+07, 3.80010601e+07,\n",
              "       3.80010601e+07, 3.80010601e+07, 3.80010601e+07, 3.80010601e+07,\n",
              "       3.80010601e+07, 3.80010601e+07, 3.80010601e+07, 3.80010601e+07,\n",
              "       3.80010601e+07, 3.80010601e+07, 3.80010601e+07, 3.80010601e+07,\n",
              "       3.80010601e+07, 3.80010601e+07, 3.80010601e+07, 3.80010601e+07,\n",
              "       3.80010601e+07, 3.80010601e+07, 3.80010601e+07, 3.80010601e+07,\n",
              "       3.80010601e+07, 3.80010601e+07, 3.80010601e+07, 3.80010601e+07,\n",
              "       3.80010601e+07, 3.80010601e+07, 3.80010601e+07, 3.80010601e+07,\n",
              "       3.80010601e+07, 3.80010601e+07, 3.80010601e+07, 3.80010601e+07,\n",
              "       3.80010601e+07, 3.80010601e+07, 3.80010601e+07, 3.80010601e+07,\n",
              "       3.80010601e+07, 3.80010601e+07, 3.80010601e+07, 3.80010601e+07,\n",
              "       3.80010601e+07, 3.80010601e+07, 3.80010601e+07, 3.80010601e+07,\n",
              "       3.80010601e+07, 3.80010601e+07, 3.80010601e+07, 3.80010601e+07,\n",
              "       3.80010601e+07, 3.80010601e+07, 3.80010601e+07, 3.80010601e+07,\n",
              "       3.80010601e+07, 3.80010601e+07, 3.80010601e+07, 3.80010601e+07,\n",
              "       3.80010601e+07, 3.80010601e+07, 3.80010601e+07, 3.80010601e+07,\n",
              "       3.80010601e+07, 3.80010601e+07, 3.80010601e+07, 3.80010601e+07,\n",
              "       3.80010601e+07, 3.80010601e+07, 3.80010601e+07, 3.80010601e+07,\n",
              "       3.80010601e+07, 3.80010601e+07, 3.80010601e+07, 3.80010601e+07,\n",
              "       3.80010601e+07, 3.80010601e+07, 3.80010601e+07, 3.80010601e+07,\n",
              "       3.80010601e+07, 3.80010601e+07, 3.80010601e+07, 3.80010601e+07,\n",
              "       3.80010601e+07, 3.80010601e+07, 3.80010601e+07, 3.80010601e+07,\n",
              "       3.80010601e+07, 3.80010601e+07, 3.80010601e+07, 3.80010601e+07,\n",
              "       3.80010601e+07, 3.80010601e+07, 3.80010601e+07, 3.80010601e+07,\n",
              "       3.80010601e+07, 3.80010601e+07, 3.80010601e+07, 3.80010601e+07,\n",
              "       3.80010601e+07, 3.80010601e+07, 3.80010601e+07, 3.80010601e+07,\n",
              "       3.80010601e+07, 3.80010601e+07, 3.80010601e+07, 3.80010601e+07,\n",
              "       3.80010601e+07, 3.80010601e+07, 3.80010601e+07, 3.80010601e+07,\n",
              "       3.80010601e+07, 3.80010601e+07, 3.80010601e+07, 3.80010601e+07,\n",
              "       3.80010601e+07, 3.80010601e+07, 3.80010601e+07, 3.80010601e+07,\n",
              "       3.80010601e+07, 3.80010601e+07, 3.80010601e+07, 3.80010601e+07,\n",
              "       3.80010601e+07, 3.80010601e+07, 3.80010601e+07, 3.80010601e+07,\n",
              "       3.80010601e+07, 3.80010601e+07, 3.80010601e+07, 3.80010601e+07,\n",
              "       3.80010601e+07, 3.80010601e+07, 3.80010601e+07, 3.80010601e+07,\n",
              "       3.80010601e+07, 3.80010601e+07, 3.80010601e+07, 3.80010601e+07,\n",
              "       3.80010601e+07, 3.80010601e+07, 3.80010601e+07, 3.80010601e+07,\n",
              "       3.80010601e+07, 3.80010601e+07, 3.80010601e+07, 3.80010601e+07,\n",
              "       3.80010601e+07, 3.80010601e+07, 3.80010601e+07, 3.80010601e+07,\n",
              "       3.80010601e+07, 3.80010601e+07, 3.80010601e+07, 3.80010601e+07,\n",
              "       3.80010601e+07, 3.80010601e+07, 3.80010601e+07, 3.80010601e+07,\n",
              "       3.80010601e+07, 3.80010601e+07, 3.80010601e+07, 3.80010601e+07,\n",
              "       3.80010601e+07, 3.80010601e+07, 3.80010601e+07, 3.80010601e+07,\n",
              "       3.80010601e+07, 3.80010601e+07, 3.80010601e+07, 3.80010601e+07,\n",
              "       3.80010601e+07, 3.80010601e+07, 3.80010601e+07, 3.80010601e+07,\n",
              "       3.80010601e+07, 3.80010601e+07, 3.80010601e+07, 3.80010601e+07,\n",
              "       3.80010601e+07, 3.80010601e+07, 3.80010601e+07, 3.80010601e+07,\n",
              "       3.80010601e+07, 3.80010601e+07, 3.80010601e+07, 3.80010601e+07,\n",
              "       3.80010601e+07, 3.80010601e+07, 3.80010601e+07, 3.80010601e+07,\n",
              "       3.80010601e+07, 3.80010601e+07, 3.80010601e+07, 3.80010601e+07,\n",
              "       3.80010601e+07, 3.80010601e+07, 3.80010601e+07, 3.80010601e+07,\n",
              "       3.80010601e+07, 3.80010601e+07, 3.80010601e+07, 3.80010601e+07,\n",
              "       3.80010601e+07, 3.80010601e+07, 3.80010601e+07, 3.80010601e+07,\n",
              "       3.80010601e+07, 3.80010601e+07, 3.80010601e+07, 3.80010601e+07,\n",
              "       3.80010601e+07, 3.80010601e+07, 3.80010601e+07, 3.80010601e+07,\n",
              "       3.80010601e+07, 3.80010601e+07, 3.80010601e+07, 3.80010601e+07,\n",
              "       3.80010601e+07, 3.80010601e+07, 3.80010601e+07, 3.80010601e+07,\n",
              "       3.80010601e+07, 3.80010601e+07, 3.80010601e+07, 3.80010601e+07,\n",
              "       3.80010601e+07, 3.80010601e+07, 3.80010601e+07, 3.80010601e+07,\n",
              "       3.80010601e+07, 3.80010601e+07, 3.80010601e+07, 3.80010601e+07])"
            ]
          },
          "metadata": {
            "tags": []
          },
          "execution_count": 57
        }
      ]
    },
    {
      "cell_type": "markdown",
      "metadata": {
        "id": "9mbKbih2R109"
      },
      "source": [
        "* **Learning Rate:** You will try out different learning rates for the dataset and find a learning rate that converges quickly. If you pick a learning rate, your plot of Cost Function $J(\\theta)$ against number of iteration will quickly decay to a small value. This also indicates that your implementation is correct. If your learning rate is too large, the cost function $J(\\theta)$ can diverge and blow up. From the below plot, you must be able to report the best learning rate the you found to earn credit for this section."
      ]
    },
    {
      "cell_type": "code",
      "metadata": {
        "id": "sBdljd94R109",
        "colab": {
          "base_uri": "https://localhost:8080/",
          "height": 410
        },
        "outputId": "f393ab89-c3d9-4aa8-b757-19e2a19761ee"
      },
      "source": [
        "# Use the following code to plot out your learning rate\n",
        "# iters and cost must be supplied to plot out the cost function\n",
        "# You may plot multiple curves corresponding to different learning rates to justify the best one.\n",
        "#\n",
        "fig, ax = plt.subplots(figsize=(10,6))\n",
        "ax.set_xlabel('Iterations')  \n",
        "ax.set_ylabel('Cost')  \n",
        "ax.set_title('Error vs. Training Iterations with Alpha = 0.1')\n",
        "ax.grid(axis='both')\n",
        "_=ax.plot(range(1000), myGradientDescentModel.cost_array, 'r.')  "
      ],
      "execution_count": null,
      "outputs": [
        {
          "output_type": "display_data",
          "data": {
            "image/png": "[encoded data removed]",
            "text/plain": [
              "<Figure size 720x432 with 1 Axes>"
            ]
          },
          "metadata": {
            "tags": []
          }
        }
      ]
    },
    {
      "cell_type": "code",
      "metadata": {
        "id": "eihA6tZ5Zi4U"
      },
      "source": [
        "alpha05 = MyLinearRegression(0.05)"
      ],
      "execution_count": null,
      "outputs": []
    },
    {
      "cell_type": "code",
      "metadata": {
        "id": "d23Fznqeak2a"
      },
      "source": [
        "alpha05.gradientDescent(X_train, y_train,myGradientDescentModel.theta,0.05,1000)    "
      ],
      "execution_count": null,
      "outputs": []
    },
    {
      "cell_type": "code",
      "metadata": {
        "id": "BW0fckkUa5id",
        "colab": {
          "base_uri": "https://localhost:8080/",
          "height": 410
        },
        "outputId": "1b5d1670-baf9-4009-8ede-b8fcdc907486"
      },
      "source": [
        "fig, ax = plt.subplots(figsize=(10,6))\n",
        "ax.set_xlabel('Iterations')  \n",
        "ax.set_ylabel('Cost')  \n",
        "ax.set_title('Error vs. Training Iterations with Alpha = 0.05')\n",
        "ax.grid(axis='both')\n",
        "_=ax.plot(range(1000), alpha05.cost_array, 'r.')  "
      ],
      "execution_count": null,
      "outputs": [
        {
          "output_type": "display_data",
          "data": {
            "image/png": "[encoded data removed]",
            "text/plain": [
              "<Figure size 720x432 with 1 Axes>"
            ]
          },
          "metadata": {
            "tags": []
          }
        }
      ]
    },
    {
      "cell_type": "code",
      "metadata": {
        "id": "zi-k9vj9bY2a"
      },
      "source": [
        "alpha02 = MyLinearRegression(0.02)\n",
        "alpha02.gradientDescent(X_train, y_train,myGradientDescentModel.theta,0.02,1000) "
      ],
      "execution_count": null,
      "outputs": []
    },
    {
      "cell_type": "code",
      "metadata": {
        "id": "KqisyBwYbgq8",
        "colab": {
          "base_uri": "https://localhost:8080/",
          "height": 410
        },
        "outputId": "773b4d3d-9e45-4db0-f429-2660550deddf"
      },
      "source": [
        "fig, ax = plt.subplots(figsize=(10,6))\n",
        "ax.set_xlabel('Iterations')  \n",
        "ax.set_ylabel('Cost')  \n",
        "ax.set_title('Error vs. Training Iterations with Alpha = 0.02')\n",
        "ax.grid(axis='both')\n",
        "_=ax.plot(range(1000), alpha02.cost_array, 'r.') "
      ],
      "execution_count": null,
      "outputs": [
        {
          "output_type": "display_data",
          "data": {
            "image/png": "[encoded data removed]",
            "text/plain": [
              "<Figure size 720x432 with 1 Axes>"
            ]
          },
          "metadata": {
            "tags": []
          }
        }
      ]
    },
    {
      "cell_type": "code",
      "metadata": {
        "id": "uio8ircmd_Sr"
      },
      "source": [
        "alpha01 = MyLinearRegression(0.01)\n",
        "alpha01.gradientDescent(X_train, y_train,myGradientDescentModel.theta,0.01,1000)"
      ],
      "execution_count": null,
      "outputs": []
    },
    {
      "cell_type": "code",
      "metadata": {
        "id": "SViaOTqHeuWg",
        "colab": {
          "base_uri": "https://localhost:8080/",
          "height": 410
        },
        "outputId": "fd57c1de-c123-48d3-8ee4-82e997b49112"
      },
      "source": [
        "fig, ax = plt.subplots(figsize=(10,6))\n",
        "ax.set_xlabel('Iterations')  \n",
        "ax.set_ylabel('Cost')  \n",
        "ax.set_title('Error vs. Training Iterations with Alpha = 0.01')\n",
        "ax.grid(axis='both')\n",
        "_=ax.plot(range(1000), alpha02.cost_array, 'r.') "
      ],
      "execution_count": null,
      "outputs": [
        {
          "output_type": "display_data",
          "data": {
            "image/png": "[encoded data removed]",
            "text/plain": [
              "<Figure size 720x432 with 1 Axes>"
            ]
          },
          "metadata": {
            "tags": []
          }
        }
      ]
    },
    {
      "cell_type": "markdown",
      "metadata": {
        "id": "lBoHhOWGdn3y"
      },
      "source": [
        "All learning rates I tested seemed to converge very quick - although the error is still quite large. I believe alpha = 0.02 will work the best."
      ]
    },
    {
      "cell_type": "markdown",
      "metadata": {
        "id": "_OSBr-iNR10_"
      },
      "source": [
        "- - -\n",
        "## Task 4. IMPLEMENT THE NORMAL EQUATION (10 pts)"
      ]
    },
    {
      "cell_type": "markdown",
      "metadata": {
        "id": "8Pnn0NEhR10_"
      },
      "source": [
        "In my lecture, you learn that the closed form solution of linear regression using the normal equation formulation. Using the formula does not require any feature scaling, and should be straight forward to implement: \n",
        "\n",
        "$\n",
        "    \\mathbf{\\theta} = ({\\mathbf{X}^{T}\\mathbf{X}})^{-1}\\mathbf{X}^{T}\\mathbf{y}.\n",
        "$\n",
        "\n",
        "Note that you still need to add a column of 1's to the $\\mathbf{\n",
        "X}$ matrix to have an intercept term."
      ]
    },
    {
      "cell_type": "code",
      "metadata": {
        "id": "X4t5jNtbR11B"
      },
      "source": [
        "# Implement the normalEquation method of the MyLinearRegression Class before execute the code below:\n",
        "myNormalEquationModel = MyLinearRegression(0.02)\n",
        "myNormalEquationModel.fitUsingNormalEquation(X_train, y_train)"
      ],
      "execution_count": null,
      "outputs": []
    },
    {
      "cell_type": "markdown",
      "metadata": {
        "id": "m5el9T4eR11D"
      },
      "source": [
        "- - -\n",
        "## Task 5. COMPARE DIFFERENT IMPLEMENTATIONS (20 pts)"
      ]
    },
    {
      "cell_type": "markdown",
      "metadata": {
        "id": "ScvMKU-zR11D"
      },
      "source": [
        "You should be able to evaluate and compare your gradient descent as well as normal equation implementation of linear regression. In theory, they should be the same, or at least similar. For good measures, you may also use the built-in library **Scholastic Gradient Descent (SGD)** as a third model for comparison. For each model, you must compute the RMSE on the **test set** as performance measure. The good news is that you can call library functions to compute these as shown below instead of writing your own code:\n",
        "\n",
        "* Which one yields the best performance measure for your dataset?\n",
        "* What is your assessment of the error? Good? Okay? Terrible?"
      ]
    },
    {
      "cell_type": "code",
      "metadata": {
        "id": "wtvlmtyCR11E",
        "colab": {
          "base_uri": "https://localhost:8080/",
          "height": 173
        },
        "outputId": "2dd2b989-9552-4d14-fb97-09a2d2a8bef1"
      },
      "source": [
        "from sklearn.metrics import mean_squared_error\n",
        "from sklearn.metrics import r2_score\n",
        "# Use the built-in SGD Regressor model\n",
        "from sklearn.linear_model import SGDRegressor\n",
        "mySGDModel = SGDRegressor()\n",
        "mySGDModel.fit(X_train,y_train)"
      ],
      "execution_count": null,
      "outputs": [
        {
          "output_type": "stream",
          "text": [
            "/usr/local/lib/python3.6/dist-packages/sklearn/utils/validation.py:760: DataConversionWarning: A column-vector y was passed when a 1d array was expected. Please change the shape of y to (n_samples, ), for example using ravel().\n",
            "  y = column_or_1d(y, warn=True)\n"
          ],
          "name": "stderr"
        },
        {
          "output_type": "execute_result",
          "data": {
            "text/plain": [
              "SGDRegressor(alpha=0.0001, average=False, early_stopping=False, epsilon=0.1,\n",
              "             eta0=0.01, fit_intercept=True, l1_ratio=0.15,\n",
              "             learning_rate='invscaling', loss='squared_loss', max_iter=1000,\n",
              "             n_iter_no_change=5, penalty='l2', power_t=0.25, random_state=None,\n",
              "             shuffle=True, tol=0.001, validation_fraction=0.1, verbose=0,\n",
              "             warm_start=False)"
            ]
          },
          "metadata": {
            "tags": []
          },
          "execution_count": 70
        }
      ]
    },
    {
      "cell_type": "code",
      "metadata": {
        "id": "54YbCwO8gNqi",
        "colab": {
          "base_uri": "https://localhost:8080/",
          "height": 34
        },
        "outputId": "fa5506f9-99ae-4696-db16-fb92b4680b27"
      },
      "source": [
        "y_predict = mySGDModel.predict(X_test)\n",
        "mse = mean_squared_error(y_test, y_predict)\n",
        "mySGDModel_rmse = np.sqrt(mse)\n",
        "print(mySGDModel_rmse)"
      ],
      "execution_count": null,
      "outputs": [
        {
          "output_type": "stream",
          "text": [
            "5664.397728462174\n"
          ],
          "name": "stdout"
        }
      ]
    },
    {
      "cell_type": "code",
      "metadata": {
        "id": "SmV7xWv4uLCq"
      },
      "source": [
        "rSGD = r2_score(y_test, y_predict)"
      ],
      "execution_count": null,
      "outputs": []
    },
    {
      "cell_type": "code",
      "metadata": {
        "id": "BPu8pRbZlNwn",
        "colab": {
          "base_uri": "https://localhost:8080/",
          "height": 301
        },
        "outputId": "4e32c374-f19a-449e-83c0-93492d5e317e"
      },
      "source": [
        "# plotting y_test vs y_predict for random for SGD regressor\n",
        "sns.set_style(\"darkgrid\")\n",
        "plt.scatter(y_test, y_predict)\n",
        "plt.plot([y_test.min(), y_test.max()], [y_test.min(), y_test.max()], 'r--', lw=2)\n",
        "plt.text(40000, 10000, 'R-squared = %0.2f' % rSGD)\n",
        "plt.xlabel('Test')\n",
        "plt.ylabel('Predicted')\n",
        "plt.title('Test data vs Predicted data - SGD Regressor')\n",
        "plt.show()"
      ],
      "execution_count": null,
      "outputs": [
        {
          "output_type": "display_data",
          "data": {
            "image/png": "[encoded data removed]",
            "text/plain": [
              "<Figure size 432x288 with 1 Axes>"
            ]
          },
          "metadata": {
            "tags": []
          }
        }
      ]
    },
    {
      "cell_type": "code",
      "metadata": {
        "id": "kJtGPnIif-Ou",
        "colab": {
          "base_uri": "https://localhost:8080/",
          "height": 34
        },
        "outputId": "e9fa356c-e5ed-41be-e1b0-36506c59ab10"
      },
      "source": [
        "# gradient descent rsme  \n",
        "y_pred = alpha02.predict(X_test)\n",
        "mse = mean_squared_error(y_test, y_pred)\n",
        "myGradientDescentModel_rmse = np.sqrt(mse)\n",
        "print(myGradientDescentModel_rmse)"
      ],
      "execution_count": null,
      "outputs": [
        {
          "output_type": "stream",
          "text": [
            "5668.837041423854\n"
          ],
          "name": "stdout"
        }
      ]
    },
    {
      "cell_type": "code",
      "metadata": {
        "id": "ezHraDhGu0DN"
      },
      "source": [
        "rMGD = r2_score(y_test, y_pred)"
      ],
      "execution_count": null,
      "outputs": []
    },
    {
      "cell_type": "code",
      "metadata": {
        "id": "A8Ywn9Wqm5Su",
        "colab": {
          "base_uri": "https://localhost:8080/",
          "height": 301
        },
        "outputId": "76aa50a0-a9dd-46a9-af01-3e451694452f"
      },
      "source": [
        "# plotting y_test vs y_predict for random for SGD regressor\n",
        "sns.set_style(\"darkgrid\")\n",
        "plt.scatter(y_test, y_pred)\n",
        "plt.plot([y_test.min(), y_test.max()], [y_test.min(), y_test.max()], 'r--', lw=2)\n",
        "plt.text(40000, 10000, 'R-squared = %0.2f' % rMGD)\n",
        "plt.xlabel('Test')\n",
        "plt.ylabel('Predicted')\n",
        "plt.title('Test data vs Predicted data - My Gradient Descent')\n",
        "plt.show()"
      ],
      "execution_count": null,
      "outputs": [
        {
          "output_type": "display_data",
          "data": {
            "image/png": "[encoded data removed]",
            "text/plain": [
              "<Figure size 432x288 with 1 Axes>"
            ]
          },
          "metadata": {
            "tags": []
          }
        }
      ]
    },
    {
      "cell_type": "code",
      "metadata": {
        "id": "j78Lgmp0gfb7",
        "colab": {
          "base_uri": "https://localhost:8080/",
          "height": 34
        },
        "outputId": "c2222622-f6b3-49f1-bde4-e481f051fbe6"
      },
      "source": [
        "# normal equation rsme\n",
        "y_pred1 = myNormalEquationModel.predict(X_test)\n",
        "mse = mean_squared_error(y_test, y_pred1)\n",
        "myNormalEquationModel_rmse = np.sqrt(mse)\n",
        "print(myNormalEquationModel_rmse)"
      ],
      "execution_count": null,
      "outputs": [
        {
          "output_type": "stream",
          "text": [
            "32487.176218475823\n"
          ],
          "name": "stdout"
        }
      ]
    },
    {
      "cell_type": "code",
      "metadata": {
        "id": "f7IUjNNYvHWY"
      },
      "source": [
        "rNO = r2_score(y_test, y_pred1)"
      ],
      "execution_count": null,
      "outputs": []
    },
    {
      "cell_type": "code",
      "metadata": {
        "id": "UCF0WMIknZnw",
        "colab": {
          "base_uri": "https://localhost:8080/",
          "height": 301
        },
        "outputId": "37d23306-36ed-4368-ced5-482b1c5ec6fe"
      },
      "source": [
        "# plotting y_test vs y_predict for random for SGD regressor\n",
        "sns.set_style(\"darkgrid\")\n",
        "plt.scatter(y_test, y_pred1)\n",
        "plt.plot([y_test.min(), y_test.max()], [y_test.min(), y_test.max()], 'r--', lw=2)\n",
        "plt.text(40000, -30000, 'R-squared = %0.2f' % rNO)\n",
        "plt.xlabel('Test')\n",
        "plt.ylabel('Predicted')\n",
        "plt.title('Test data vs Predicted data - My Normal Equation')\n",
        "plt.show()"
      ],
      "execution_count": null,
      "outputs": [
        {
          "output_type": "display_data",
          "data": {
            "image/png": "[encoded data removed]",
            "text/plain": [
              "<Figure size 432x288 with 1 Axes>"
            ]
          },
          "metadata": {
            "tags": []
          }
        }
      ]
    },
    {
      "cell_type": "code",
      "metadata": {
        "id": "JOSyqs7Jo_Xk",
        "colab": {
          "base_uri": "https://localhost:8080/",
          "height": 51
        },
        "outputId": "a05ece0e-5f14-48d7-9a3b-2e439ed4af35"
      },
      "source": [
        "# my gradient descent seems to perform the best\n",
        "# I'll print out a confidence interval\n",
        "from scipy import stats\n",
        "error = (y_pred-y_test)**2\n",
        "v = len(error) - 1\n",
        "np.sqrt(stats.t.interval(0.95, v, loc=error.mean(),scale=stats.sem(error)))"
      ],
      "execution_count": null,
      "outputs": [
        {
          "output_type": "execute_result",
          "data": {
            "text/plain": [
              "array([[5036.20949861],\n",
              "       [6237.62941273]])"
            ]
          },
          "metadata": {
            "tags": []
          },
          "execution_count": 80
        }
      ]
    },
    {
      "cell_type": "markdown",
      "metadata": {
        "id": "vmaBPxD_R11G"
      },
      "source": [
        "- - -\n",
        "## Task 6. PRESENT YOUR SOLUTION (10 pts)"
      ]
    },
    {
      "cell_type": "markdown",
      "metadata": {
        "id": "zI7TNvZsR11H"
      },
      "source": [
        "Now that you need to write a short memo of one paragraph to be read by a non-technical audience (ie. your manager/boss). Focus on answering the following: \n",
        "\n",
        "* How can you pitch your solution to this project? \n",
        "* What did you learn so far about the problem?\n",
        "* Is there any insight moving forward to improve the solution."
      ]
    },
    {
      "cell_type": "code",
      "metadata": {
        "id": "rrv4waCfR11H"
      },
      "source": [
        "# Your paragraph goes here for this section\n",
        "#\n",
        "# I would tell my boss that I am 95% certain that the test RSME lies between 5036 and 6237\n",
        "# this means that the model performed decently. I learned that smoking is highly correlated \n",
        "# with a greater insurance charge, but there are 5X more non-smokers - so smoking doesn't \n",
        "# affect higher charges on a population level. Age and BMI could be worth diving further into. \n",
        "# I have a feeling the highest charges will be older smokers with a high BMI. From the graphs\n",
        "# you can tell that there are some clustered data points - I'm sure it has to do with smoking.\n",
        "# Getting down into those special case data points with other forms of machine learning could\n",
        "# improve the solution. "
      ],
      "execution_count": null,
      "outputs": []
    },
    {
      "cell_type": "markdown",
      "metadata": {
        "id": "I1vTd45lR11J"
      },
      "source": [
        "- - - \n",
        "### NEED HELP?"
      ]
    },
    {
      "cell_type": "markdown",
      "metadata": {
        "id": "ionUS2eLR11K"
      },
      "source": [
        "In case you get stuck in any step in the process, you may find some useful information from:\n",
        "\n",
        " * Consult my [slides](https://docs.google.com/presentation/d/10D1he89peAWaFgjtZlHpUzvOOAie_vIFT95htKCKgc0/edit?usp=sharing) and/or the textbook\n",
        " * Talk to the TA, they are available and there to help you during [office hour](http://bit.ly/cs4774oh)\n",
        " * Come talk to me or email me <nn4pj@virginia.edu> with subject starting \"CS4774 Assignment 1:...\".\n",
        "\n",
        "Best of luck and have fun!"
      ]
    }
  ]
}