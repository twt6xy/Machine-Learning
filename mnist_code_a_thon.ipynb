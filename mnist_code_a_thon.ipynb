{
  "nbformat": 4,
  "nbformat_minor": 0,
  "metadata": {
    "colab": {
      "name": "mnist-code-a-thon.ipynb",
      "provenance": []
    },
    "kernelspec": {
      "display_name": "Python 3",
      "language": "python",
      "name": "python3"
    },
    "language_info": {
      "codemirror_mode": {
        "name": "ipython",
        "version": 3
      },
      "file_extension": ".py",
      "mimetype": "text/x-python",
      "name": "python",
      "nbconvert_exporter": "python",
      "pygments_lexer": "ipython3",
      "version": "3.6.5"
    }
  },
  "cells": [
    {
      "cell_type": "code",
      "metadata": {
        "id": "LB-CrRrW7K_m",
        "colab": {
          "base_uri": "https://localhost:8080/",
          "height": 34
        },
        "outputId": "e804728c-8221-46b5-9f62-57d002c0816c"
      },
      "source": [
        "# import dataset\n",
        "from sklearn.datasets import fetch_openml\n",
        "mnist = fetch_openml('mnist_784', version=1)\n",
        "mnist.keys()"
      ],
      "execution_count": null,
      "outputs": [
        {
          "output_type": "execute_result",
          "data": {
            "text/plain": [
              "dict_keys(['data', 'target', 'feature_names', 'DESCR', 'details', 'categories', 'url'])"
            ]
          },
          "metadata": {
            "tags": []
          },
          "execution_count": 1
        }
      ]
    },
    {
      "cell_type": "code",
      "metadata": {
        "id": "H3VzDNDb9uKd"
      },
      "source": [
        "import numpy as np\n",
        "X, y = mnist['data'], mnist['target']\n",
        "y = y.astype(np.uint8)"
      ],
      "execution_count": null,
      "outputs": []
    },
    {
      "cell_type": "code",
      "metadata": {
        "id": "EWj0lmy5_I1T",
        "colab": {
          "base_uri": "https://localhost:8080/",
          "height": 187
        },
        "outputId": "c3c8fdb1-8a67-4dcf-8a69-4685f8152afb"
      },
      "source": [
        "import matplotlib.pyplot as plt\n",
        "import matplotlib as mpl\n",
        "import random\n",
        "\n",
        "# visualize the data\n",
        "fig, axs = plt.subplots(1, 5, sharex=True, sharey=True, figsize=(10,6))\n",
        "axs = axs.flatten()\n",
        "for i in range(0,5):\n",
        "    im = X[i]\n",
        "    im = im.reshape(-1,28,28,1)\n",
        "    axs[i].imshow(im[0,:,:,0], cmap=plt.get_cmap('plasma'))\n",
        "    axs[i].set_title(y[i])\n",
        "plt.tight_layout()\n",
        "plt.show()"
      ],
      "execution_count": null,
      "outputs": [
        {
          "output_type": "display_data",
          "data": {
            "image/png": "[encoded data removed]",
            "text/plain": [
              "<Figure size 720x432 with 5 Axes>"
            ]
          },
          "metadata": {
            "tags": []
          }
        }
      ]
    },
    {
      "cell_type": "code",
      "metadata": {
        "id": "mfrvym7VA5dV"
      },
      "source": [
        "# separate into 90% train set and 10% test set\n",
        "from sklearn.model_selection import train_test_split\n",
        "X_train, X_test, y_train, y_test = train_test_split(X, y, test_size=0.10, train_size=0.90, random_state=42)"
      ],
      "execution_count": null,
      "outputs": []
    },
    {
      "cell_type": "code",
      "metadata": {
        "id": "QPBL-uN9BueH",
        "colab": {
          "base_uri": "https://localhost:8080/",
          "height": 34
        },
        "outputId": "f87f9b02-7240-480a-8073-9096f61f557f"
      },
      "source": [
        "# make sure the shapes line up\n",
        "X_train.shape"
      ],
      "execution_count": null,
      "outputs": [
        {
          "output_type": "execute_result",
          "data": {
            "text/plain": [
              "(63000, 784)"
            ]
          },
          "metadata": {
            "tags": []
          },
          "execution_count": 6
        }
      ]
    },
    {
      "cell_type": "code",
      "metadata": {
        "id": "Wi9W1Z7NBwrW",
        "colab": {
          "base_uri": "https://localhost:8080/",
          "height": 34
        },
        "outputId": "638b5b58-cb77-46cd-e326-8b24b5ed9234"
      },
      "source": [
        "X_test.shape"
      ],
      "execution_count": null,
      "outputs": [
        {
          "output_type": "execute_result",
          "data": {
            "text/plain": [
              "(7000, 784)"
            ]
          },
          "metadata": {
            "tags": []
          },
          "execution_count": 7
        }
      ]
    },
    {
      "cell_type": "code",
      "metadata": {
        "id": "R10Yq-VJCEg7",
        "colab": {
          "base_uri": "https://localhost:8080/",
          "height": 34
        },
        "outputId": "27ae0f2a-8765-4821-934e-b0e5e5ebbdaa"
      },
      "source": [
        "y_train.shape"
      ],
      "execution_count": null,
      "outputs": [
        {
          "output_type": "execute_result",
          "data": {
            "text/plain": [
              "(63000,)"
            ]
          },
          "metadata": {
            "tags": []
          },
          "execution_count": 8
        }
      ]
    },
    {
      "cell_type": "code",
      "metadata": {
        "id": "VMkAY23pCHD9",
        "colab": {
          "base_uri": "https://localhost:8080/",
          "height": 34
        },
        "outputId": "34f5d510-ec75-425e-8878-b0454d0f3f49"
      },
      "source": [
        "y_test.shape"
      ],
      "execution_count": null,
      "outputs": [
        {
          "output_type": "execute_result",
          "data": {
            "text/plain": [
              "(7000,)"
            ]
          },
          "metadata": {
            "tags": []
          },
          "execution_count": 9
        }
      ]
    },
    {
      "cell_type": "code",
      "metadata": {
        "id": "hmLY1P9UeHnV"
      },
      "source": [
        "from sklearn.metrics import confusion_matrix, classification_report, accuracy_score\n",
        "from sklearn.model_selection import cross_val_score, KFold \n",
        "from sklearn.model_selection import RandomizedSearchCV, GridSearchCV\n",
        "from sklearn.preprocessing import OneHotEncoder\n",
        "from sklearn.preprocessing import StandardScaler"
      ],
      "execution_count": null,
      "outputs": []
    },
    {
      "cell_type": "code",
      "metadata": {
        "id": "e80Gz9AkTZsi"
      },
      "source": [
        "# normalize the data - RGB values need to be divided by 255\n",
        "# y values can be one hot encoded\n",
        "def normalize(X):\n",
        "  return (X/255).astype(np.float32)"
      ],
      "execution_count": null,
      "outputs": []
    },
    {
      "cell_type": "code",
      "metadata": {
        "id": "sqFumiqCVeN9"
      },
      "source": [
        "X_train, X_test = normalize(X_train), normalize(X_test)\n",
        "\n",
        "#scaler = StandardScaler()\n",
        "#X_train, X_test = scaler.fit_transform(X_train), scaler.fit_transform(X_test)"
      ],
      "execution_count": null,
      "outputs": []
    },
    {
      "cell_type": "code",
      "metadata": {
        "id": "r6wf-8nxehcc"
      },
      "source": [
        "# reusable function that I will be using the report the different kernel results\n",
        "def report_results(X, y, clf):\n",
        "  predicted = clf.predict(X)\n",
        "  #results = confusion_matrix(y, predicted)\n",
        "  #print('Confusion Matrix: ')\n",
        "  #print(results)\n",
        "  print('Accuracy Score: ', accuracy_score(y, predicted))\n",
        "  print(\"Report: \")\n",
        "  print(classification_report(y, predicted))"
      ],
      "execution_count": null,
      "outputs": []
    },
    {
      "cell_type": "code",
      "metadata": {
        "id": "esK8HiD6cLbc",
        "colab": {
          "base_uri": "https://localhost:8080/",
          "height": 68
        },
        "outputId": "baadddd3-1af7-4fca-e065-e14b2bbe8ea8"
      },
      "source": [
        "# start training models\n",
        "# first I'm going to try Kneighbors - without a gridsearch\n",
        "from sklearn.neighbors import KNeighborsClassifier\n",
        "knn = KNeighborsClassifier(n_neighbors=10)\n",
        "knn.fit(X_train, y_train)"
      ],
      "execution_count": null,
      "outputs": [
        {
          "output_type": "execute_result",
          "data": {
            "text/plain": [
              "KNeighborsClassifier(algorithm='auto', leaf_size=30, metric='minkowski',\n",
              "                     metric_params=None, n_jobs=None, n_neighbors=10, p=2,\n",
              "                     weights='uniform')"
            ]
          },
          "metadata": {
            "tags": []
          },
          "execution_count": 14
        }
      ]
    },
    {
      "cell_type": "code",
      "metadata": {
        "id": "F2VuMbuBekNr",
        "colab": {
          "base_uri": "https://localhost:8080/",
          "height": 340
        },
        "outputId": "ba69b614-041f-4ee8-ada1-bed5a0d9b750"
      },
      "source": [
        "report_results(X_test, y_test, knn)"
      ],
      "execution_count": null,
      "outputs": [
        {
          "output_type": "stream",
          "text": [
            "Accuracy Score:  0.9661428571428572\n",
            "Report: \n",
            "              precision    recall  f1-score   support\n",
            "\n",
            "           0       0.98      1.00      0.99       683\n",
            "           1       0.94      0.99      0.97       800\n",
            "           2       0.97      0.96      0.96       674\n",
            "           3       0.96      0.96      0.96       760\n",
            "           4       0.98      0.97      0.97       611\n",
            "           5       0.96      0.96      0.96       658\n",
            "           6       0.98      0.99      0.98       677\n",
            "           7       0.96      0.96      0.96       724\n",
            "           8       0.98      0.92      0.95       693\n",
            "           9       0.96      0.96      0.96       720\n",
            "\n",
            "    accuracy                           0.97      7000\n",
            "   macro avg       0.97      0.97      0.97      7000\n",
            "weighted avg       0.97      0.97      0.97      7000\n",
            "\n"
          ],
          "name": "stdout"
        }
      ]
    },
    {
      "cell_type": "markdown",
      "metadata": {
        "id": "mrIXKRgolSKe"
      },
      "source": [
        "Pretty good first score - it took forever to run without parameter tuning so instead of trying that I'm going to try some other models"
      ]
    },
    {
      "cell_type": "code",
      "metadata": {
        "id": "cSQq1Qr_ndsF"
      },
      "source": [
        "# Next I'll try a oVr classifier with an SVC\n",
        "from sklearn.svm import SVC\n",
        "\n",
        "# smaller sets for a quicker gridsearch\n",
        "X_train_small, X_test_small, y_train_small, y_test_small = train_test_split(X, y, test_size=0.05, train_size=0.20, random_state=42)\n",
        "\n",
        "# helper function that will allow me to cleanly perform GridSearch's\n",
        "def svc_param_selection(X, y, nfolds):\n",
        "    Cs = [1, 5]\n",
        "    gammas = [0.01, 0.05]\n",
        "    param_grid = {'C': Cs, 'gamma' : gammas}\n",
        "    grid_search = GridSearchCV(SVC(kernel='rbf'), param_grid, cv=nfolds)\n",
        "    grid_search.fit(X, y)\n",
        "    grid_search.best_params_\n",
        "    return grid_search.best_params_"
      ],
      "execution_count": null,
      "outputs": []
    },
    {
      "cell_type": "code",
      "metadata": {
        "id": "0iN7L4aObMLy"
      },
      "source": [
        "# perform the GridSearch and return the best params\n",
        "rbf_params = svc_param_selection(X_train_small, y_train_small, 3)"
      ],
      "execution_count": null,
      "outputs": []
    },
    {
      "cell_type": "code",
      "metadata": {
        "id": "lE5nPQ6ebML1",
        "outputId": "cc962ccc-a7f4-42bf-a073-94246279cf5d"
      },
      "source": [
        "# view the best params\n",
        "rbf_params"
      ],
      "execution_count": null,
      "outputs": [
        {
          "output_type": "execute_result",
          "data": {
            "text/plain": [
              "{'C': 1, 'gamma': 0.01}"
            ]
          },
          "metadata": {
            "tags": []
          },
          "execution_count": 18
        }
      ]
    },
    {
      "cell_type": "code",
      "metadata": {
        "id": "IoF_epFroOSt"
      },
      "source": [
        "# Gaussian RBF\n",
        "svm_clf_rbf = SVC(kernel=\"rbf\", C=1, gamma=0.01) "
      ],
      "execution_count": null,
      "outputs": []
    },
    {
      "cell_type": "code",
      "metadata": {
        "id": "7icsLHkWoP8w",
        "outputId": "2019603a-b916-4407-8050-89eadc4b570f"
      },
      "source": [
        "# fit training data into the guassian rbf model\n",
        "svm_clf_rbf.fit(X_train, y_train)"
      ],
      "execution_count": null,
      "outputs": [
        {
          "output_type": "execute_result",
          "data": {
            "text/plain": [
              "SVC(C=1, cache_size=200, class_weight=None, coef0=0.0,\n",
              "    decision_function_shape='ovr', degree=3, gamma=0.01, kernel='rbf',\n",
              "    max_iter=-1, probability=False, random_state=None, shrinking=True,\n",
              "    tol=0.001, verbose=False)"
            ]
          },
          "metadata": {
            "tags": []
          },
          "execution_count": 21
        }
      ]
    },
    {
      "cell_type": "code",
      "metadata": {
        "id": "6wo7n9-DoRsc",
        "outputId": "ba7ca462-2235-4736-bf4f-d4ca252aa7ac"
      },
      "source": [
        "# report the results\n",
        "report_results(X_test, y_test, svm_clf_rbf)"
      ],
      "execution_count": null,
      "outputs": [
        {
          "output_type": "stream",
          "text": [
            "Accuracy Score:  0.9724285714285714\n",
            "Report: \n",
            "              precision    recall  f1-score   support\n",
            "\n",
            "           0       0.98      0.99      0.99       683\n",
            "           1       0.98      0.99      0.98       800\n",
            "           2       0.96      0.97      0.97       674\n",
            "           3       0.96      0.96      0.96       760\n",
            "           4       0.97      0.97      0.97       611\n",
            "           5       0.97      0.97      0.97       658\n",
            "           6       0.98      0.99      0.98       677\n",
            "           7       0.98      0.97      0.97       724\n",
            "           8       0.97      0.96      0.96       693\n",
            "           9       0.97      0.96      0.97       720\n",
            "\n",
            "    accuracy                           0.97      7000\n",
            "   macro avg       0.97      0.97      0.97      7000\n",
            "weighted avg       0.97      0.97      0.97      7000\n",
            "\n"
          ],
          "name": "stdout"
        }
      ]
    },
    {
      "cell_type": "code",
      "metadata": {
        "id": "jjXCOhVdbMMC"
      },
      "source": [
        "# Gaussian RBF\n",
        "svm_clf_rbf = SVC(kernel=\"poly\", C=0.001, gamma=10) "
      ],
      "execution_count": null,
      "outputs": []
    },
    {
      "cell_type": "code",
      "metadata": {
        "id": "Gmg8NKEKbMMG",
        "outputId": "dab29d8d-7755-40ff-d2c0-c9596f005cbc"
      },
      "source": [
        "# fit training data into the guassian rbf model\n",
        "svm_clf_rbf.fit(X_train, y_train)"
      ],
      "execution_count": null,
      "outputs": [
        {
          "output_type": "execute_result",
          "data": {
            "text/plain": [
              "SVC(C=0.001, cache_size=200, class_weight=None, coef0=0.0,\n",
              "    decision_function_shape='ovr', degree=3, gamma=10, kernel='poly',\n",
              "    max_iter=-1, probability=False, random_state=None, shrinking=True,\n",
              "    tol=0.001, verbose=False)"
            ]
          },
          "metadata": {
            "tags": []
          },
          "execution_count": 24
        }
      ]
    },
    {
      "cell_type": "code",
      "metadata": {
        "scrolled": true,
        "id": "KV4PIU1qbMMJ",
        "outputId": "24bbf0ca-bd4e-4a22-ba14-a61c27ea3fa2"
      },
      "source": [
        "# report the results\n",
        "poly_results = report_results(X_test, y_test, svm_clf_rbf)"
      ],
      "execution_count": null,
      "outputs": [
        {
          "output_type": "stream",
          "text": [
            "Accuracy Score:  0.9774285714285714\n",
            "Report: \n",
            "              precision    recall  f1-score   support\n",
            "\n",
            "           0       0.99      0.99      0.99       683\n",
            "           1       0.99      0.99      0.99       800\n",
            "           2       0.96      0.99      0.97       674\n",
            "           3       0.97      0.96      0.97       760\n",
            "           4       0.98      0.98      0.98       611\n",
            "           5       0.97      0.98      0.97       658\n",
            "           6       0.99      0.99      0.99       677\n",
            "           7       0.98      0.98      0.98       724\n",
            "           8       0.98      0.96      0.97       693\n",
            "           9       0.98      0.96      0.97       720\n",
            "\n",
            "    accuracy                           0.98      7000\n",
            "   macro avg       0.98      0.98      0.98      7000\n",
            "weighted avg       0.98      0.98      0.98      7000\n",
            "\n"
          ],
          "name": "stdout"
        }
      ]
    },
    {
      "cell_type": "code",
      "metadata": {
        "id": "6T1lZta8bMMM"
      },
      "source": [
        "# the polynomial SVM seems to produce the best results"
      ],
      "execution_count": null,
      "outputs": []
    }
  ]
}